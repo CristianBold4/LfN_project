{
  "nbformat": 4,
  "nbformat_minor": 0,
  "metadata": {
    "colab": {
      "provenance": []
    },
    "kernelspec": {
      "name": "python3",
      "display_name": "Python 3"
    },
    "language_info": {
      "name": "python"
    },
    "gpuClass": "standard"
  },
  "cells": [
    {
      "cell_type": "markdown",
      "source": [
        "# Traffic Forecasting using Graph Neural Networks"
      ],
      "metadata": {
        "id": "ym1PCRtQ382W"
      }
    },
    {
      "cell_type": "code",
      "execution_count": 1,
      "metadata": {
        "colab": {
          "base_uri": "https://localhost:8080/"
        },
        "id": "fRdUMAgV367G",
        "outputId": "394591a1-0629-4734-d2d8-d1049ed19bc3"
      },
      "outputs": [
        {
          "output_type": "stream",
          "name": "stdout",
          "text": [
            "Looking in indexes: https://pypi.org/simple, https://us-python.pkg.dev/colab-wheels/public/simple/\n",
            "Looking in links: https://data.pyg.org/whl/torch-1.13.0+cpu.html\n",
            "Requirement already satisfied: torch-scatter in /usr/local/lib/python3.8/dist-packages (2.1.0+pt113cpu)\n",
            "Requirement already satisfied: torch-sparse in /usr/local/lib/python3.8/dist-packages (0.6.16+pt113cpu)\n",
            "Requirement already satisfied: scipy in /usr/local/lib/python3.8/dist-packages (from torch-sparse) (1.7.3)\n",
            "Requirement already satisfied: numpy<1.23.0,>=1.16.5 in /usr/local/lib/python3.8/dist-packages (from scipy->torch-sparse) (1.21.6)\n",
            "Looking in indexes: https://pypi.org/simple, https://us-python.pkg.dev/colab-wheels/public/simple/\n",
            "Requirement already satisfied: torch-geometric in /usr/local/lib/python3.8/dist-packages (2.2.0)\n",
            "Requirement already satisfied: tqdm in /usr/local/lib/python3.8/dist-packages (from torch-geometric) (4.64.1)\n",
            "Requirement already satisfied: pyparsing in /usr/local/lib/python3.8/dist-packages (from torch-geometric) (3.0.9)\n",
            "Requirement already satisfied: psutil>=5.8.0 in /usr/local/lib/python3.8/dist-packages (from torch-geometric) (5.9.4)\n",
            "Requirement already satisfied: jinja2 in /usr/local/lib/python3.8/dist-packages (from torch-geometric) (2.11.3)\n",
            "Requirement already satisfied: numpy in /usr/local/lib/python3.8/dist-packages (from torch-geometric) (1.21.6)\n",
            "Requirement already satisfied: scipy in /usr/local/lib/python3.8/dist-packages (from torch-geometric) (1.7.3)\n",
            "Requirement already satisfied: scikit-learn in /usr/local/lib/python3.8/dist-packages (from torch-geometric) (1.0.2)\n",
            "Requirement already satisfied: requests in /usr/local/lib/python3.8/dist-packages (from torch-geometric) (2.25.1)\n",
            "Requirement already satisfied: MarkupSafe>=0.23 in /usr/local/lib/python3.8/dist-packages (from jinja2->torch-geometric) (2.0.1)\n",
            "Requirement already satisfied: certifi>=2017.4.17 in /usr/local/lib/python3.8/dist-packages (from requests->torch-geometric) (2022.12.7)\n",
            "Requirement already satisfied: idna<3,>=2.5 in /usr/local/lib/python3.8/dist-packages (from requests->torch-geometric) (2.10)\n",
            "Requirement already satisfied: chardet<5,>=3.0.2 in /usr/local/lib/python3.8/dist-packages (from requests->torch-geometric) (4.0.0)\n",
            "Requirement already satisfied: urllib3<1.27,>=1.21.1 in /usr/local/lib/python3.8/dist-packages (from requests->torch-geometric) (1.24.3)\n",
            "Requirement already satisfied: joblib>=0.11 in /usr/local/lib/python3.8/dist-packages (from scikit-learn->torch-geometric) (1.2.0)\n",
            "Requirement already satisfied: threadpoolctl>=2.0.0 in /usr/local/lib/python3.8/dist-packages (from scikit-learn->torch-geometric) (3.1.0)\n",
            "Drive already mounted at /content/drive; to attempt to forcibly remount, call drive.mount(\"/content/drive\", force_remount=True).\n"
          ]
        }
      ],
      "source": [
        "#install pytorch geometric\n",
        "!pip install torch-scatter torch-sparse -f https://data.pyg.org/whl/torch-1.13.0+cpu.html\n",
        "!pip install torch-geometric\n",
        "\n",
        "import numpy as np\n",
        "import pandas as pd\n",
        "from matplotlib import pyplot as plt\n",
        "from google.colab import drive\n",
        "import scipy.sparse as sp\n",
        "import torch\n",
        "import torch.utils.data\n",
        "from torch_geometric.utils.convert import from_networkx\n",
        "import networkx as nx\n",
        "import math\n",
        "\n",
        "from sklearn import preprocessing\n",
        "drive.mount('/content/drive')"
      ]
    },
    {
      "cell_type": "markdown",
      "source": [
        "Get dataset files (upload correspondent *adj.npz* file into colab content folder)"
      ],
      "metadata": {
        "id": "BpX2bavi4MYx"
      }
    },
    {
      "cell_type": "code",
      "source": [
        "#METR-LA dataset without saturdays and sundays\n",
        "#!cp /content/drive/MyDrive/modified-METRLA.csv /content/dataset.csv\n",
        "\n",
        "#Pems-bay dataset\n",
        "!cp /content/drive/MyDrive/pems-bay.csv /content/dataset.csv\n",
        "\n",
        "#Pemsd7-m dataset\n",
        "#!cp /content/drive/MyDrive/pemsd7-m.csv /content/dataset.csv"
      ],
      "metadata": {
        "id": "aKIiB_up4J6M"
      },
      "execution_count": 2,
      "outputs": []
    },
    {
      "cell_type": "code",
      "source": [
        "#dataset path\n",
        "dataset_path = '/content/dataset.csv'\n",
        "npz_path = '/content/adj.npz'"
      ],
      "metadata": {
        "id": "prbGrIV74Sc2"
      },
      "execution_count": 3,
      "outputs": []
    },
    {
      "cell_type": "markdown",
      "source": [
        "Clear dataset removing first column of date info if necessary and convert values into numpy array"
      ],
      "metadata": {
        "id": "tdMTWJfj9iJ8"
      }
    },
    {
      "cell_type": "code",
      "source": [
        "# read the CSV file\n",
        "df = pd.read_csv(dataset_path)\n",
        "\n",
        "# drop the first column if modified METR-LA dataset\n",
        "#df = df.drop(df.columns[0], axis=1)\n",
        "dataset = df.values\n",
        "dataset.astype(np.float128)\n",
        "\n",
        "# save the modified dataframe\n",
        "#df.to_csv(dataset_path, index=False)"
      ],
      "metadata": {
        "id": "8lJ7jLz273nS",
        "colab": {
          "base_uri": "https://localhost:8080/"
        },
        "outputId": "945fc5e0-46ab-43d7-f0dc-299e72d34973"
      },
      "execution_count": 4,
      "outputs": [
        {
          "output_type": "execute_result",
          "data": {
            "text/plain": [
              "array([[71.6, 67.5, 70.6, ..., 68.4, 70.8, 67.4],\n",
              "       [71.6, 67.6, 70.2, ..., 68.4, 70.5, 67.9],\n",
              "       [71.1, 67.5, 70.3, ..., 68.4, 70.8, 67.6],\n",
              "       ...,\n",
              "       [71.4, 66.9, 68.1, ..., 68.4, 71.6, 66.6],\n",
              "       [72.2, 66.5, 68. , ..., 68.7, 71.6, 68.4],\n",
              "       [71.5, 66.2, 68.4, ..., 68.7, 71.6, 68. ]], dtype=float128)"
            ]
          },
          "metadata": {},
          "execution_count": 4
        }
      ]
    },
    {
      "cell_type": "markdown",
      "source": [
        "Get data from *adj.npz* file"
      ],
      "metadata": {
        "id": "EVSTiUn29zIh"
      }
    },
    {
      "cell_type": "code",
      "source": [
        "# convert adj to Compressed Sparse Column format\n",
        "adj = sp.load_npz(npz_path)\n",
        "n = adj.shape[0]\n",
        "adj = adj.tocsc()\n",
        "adj = adj.todense()"
      ],
      "metadata": {
        "id": "M-epXSAB1XwO"
      },
      "execution_count": 5,
      "outputs": []
    },
    {
      "cell_type": "markdown",
      "source": [
        "### Create correspondent graph using networkx package"
      ],
      "metadata": {
        "id": "vWhJ5zq-94zA"
      }
    },
    {
      "cell_type": "code",
      "source": [
        "#create graph\n",
        "G = nx.Graph()\n",
        "\n",
        "for i in range(adj.shape[0]):\n",
        "  for j in range(adj.shape[0]):\n",
        "    if adj[i, j] != 1 and adj[i, j] != 0 and not G.has_edge(i, j):\n",
        "      G.add_edge(i, j, length=adj[i, j])"
      ],
      "metadata": {
        "id": "WCyQQQYG1LkA"
      },
      "execution_count": 6,
      "outputs": []
    },
    {
      "cell_type": "code",
      "source": [
        "#plot it\n",
        "#%matplotlib inline\n",
        "#import matplotlib.pyplot as plt\n",
        "#nx.draw(G)"
      ],
      "metadata": {
        "id": "4QF5hGHJ6cLo"
      },
      "execution_count": null,
      "outputs": []
    },
    {
      "cell_type": "code",
      "source": [
        "#set sensor number and measurements values attributes to all nodes\n",
        "nx.set_node_attributes(G, 0, 'x')\n",
        "nx.set_node_attributes(G, 0, 'y')\n",
        "\n",
        "rate = 0.8\n",
        "x_size = int(dataset.shape[0] * rate)\n",
        "\n",
        "for i in range(dataset.shape[1]):\n",
        "  G.nodes[i]['x'] = dataset[:x_size, i]\n",
        "  G.nodes[i]['y'] = dataset[x_size:, i]"
      ],
      "metadata": {
        "id": "M2rD8ryZ6uRr"
      },
      "execution_count": 7,
      "outputs": []
    },
    {
      "cell_type": "code",
      "source": [
        "#convert into torch geometric data\n",
        "data = from_networkx(G)\n",
        "print(type(data))\n",
        "\n",
        "print(data)\n",
        "print(data.x)\n",
        "print(data.edge_index)"
      ],
      "metadata": {
        "colab": {
          "base_uri": "https://localhost:8080/"
        },
        "id": "WVSeZguL8xJH",
        "outputId": "e7f6e1ca-5dd4-4d61-d92d-dd31b0511266"
      },
      "execution_count": 8,
      "outputs": [
        {
          "output_type": "stream",
          "name": "stdout",
          "text": [
            "<class 'torch_geometric.data.data.Data'>\n",
            "Data(x=[325, 41692], edge_index=[2, 38562], y=[325, 10423], length=[38562])\n",
            "tensor([[71.6000, 71.6000, 71.1000,  ..., 71.2000, 72.7000, 71.9000],\n",
            "        [70.6000, 70.2000, 70.3000,  ..., 54.7000, 55.0000, 55.4000],\n",
            "        [67.5000, 67.4000, 68.0000,  ..., 53.6000, 56.2000, 56.8000],\n",
            "        ...,\n",
            "        [70.2000, 70.6000, 70.3000,  ..., 58.8000, 60.7000, 58.1000],\n",
            "        [64.9000, 64.9000, 64.7000,  ..., 64.1000, 65.0000, 66.3000],\n",
            "        [65.0000, 65.0000, 65.0000,  ..., 29.3000, 29.6000, 30.3000]],\n",
            "       dtype=torch.float64)\n",
            "tensor([[  0,   0,   0,  ..., 324, 324, 324],\n",
            "        [  1,   2,   3,  ..., 321, 322, 323]])\n"
          ]
        },
        {
          "output_type": "stream",
          "name": "stderr",
          "text": [
            "/usr/local/lib/python3.8/dist-packages/torch_geometric/utils/convert.py:250: UserWarning: Creating a tensor from a list of numpy.ndarrays is extremely slow. Please consider converting the list to a single numpy.ndarray with numpy.array() before converting to a tensor. (Triggered internally at ../torch/csrc/utils/tensor_new.cpp:230.)\n",
            "  data[key] = torch.tensor(value)\n"
          ]
        }
      ]
    },
    {
      "cell_type": "code",
      "source": [
        "# Split the data \n",
        "train_ratio = 0.2\n",
        "num_nodes = data.x.shape[0]\n",
        "num_train = int(num_nodes * train_ratio)\n",
        "idx = [i for i in range(num_nodes)]\n",
        "\n",
        "np.random.shuffle(idx)\n",
        "train_mask = torch.full_like(data.y, False, dtype=bool)\n",
        "train_mask[idx[:num_train]] = True\n",
        "test_mask = torch.full_like(data.y, False, dtype=bool)\n",
        "test_mask[idx[num_train:]] = True"
      ],
      "metadata": {
        "id": "BLm58l6rFGe8"
      },
      "execution_count": 9,
      "outputs": []
    },
    {
      "cell_type": "markdown",
      "source": [
        "### GCN Model"
      ],
      "metadata": {
        "id": "i0BLVVGy-eLG"
      }
    },
    {
      "cell_type": "code",
      "source": [
        "from torch_geometric.nn import GCNConv\n",
        "import torch.nn.functional as F\n",
        "\n",
        "class GCN(torch.nn.Module):\n",
        "    def __init__(self, hidden_channels):\n",
        "        super().__init__()\n",
        "        torch.manual_seed(1234567)\n",
        "        self.conv1 = GCNConv(data.num_features, hidden_channels*2)\n",
        "        self.conv2 = GCNConv(hidden_channels*2, hidden_channels)\n",
        "        self.conv3 = GCNConv(hidden_channels, data.y.shape[1])\n",
        "\n",
        "    def forward(self, x, edge_index):\n",
        "        x = self.conv1(x, edge_index)\n",
        "        x = x.relu()\n",
        "        x = F.dropout(x, p=0.5, training=self.training)\n",
        "        x = self.conv2(x, edge_index)\n",
        "        x = x.relu()\n",
        "        x = F.dropout(x, p=0.5, training=self.training)\n",
        "        x = self.conv3(x, edge_index)\n",
        "        return x"
      ],
      "metadata": {
        "id": "rbISA1ReAVai"
      },
      "execution_count": 10,
      "outputs": []
    },
    {
      "cell_type": "code",
      "source": [
        "model = GCN(hidden_channels=100)\n",
        "print(model)\n",
        "model = model.double()\n",
        "optimizer = torch.optim.Adam(model.parameters(), lr=0.01, weight_decay=5e-4)\n",
        "criterion = torch.nn.MSELoss()\n",
        "criterion2 = torch.nn.L1Loss()"
      ],
      "metadata": {
        "colab": {
          "base_uri": "https://localhost:8080/"
        },
        "id": "z7Sj2UVvg-iJ",
        "outputId": "49a8b0fe-c9e5-4773-a6dc-2417b4d55e6f"
      },
      "execution_count": 24,
      "outputs": [
        {
          "output_type": "stream",
          "name": "stdout",
          "text": [
            "GCN(\n",
            "  (conv1): GCNConv(41692, 200)\n",
            "  (conv2): GCNConv(200, 100)\n",
            "  (conv3): GCNConv(100, 10423)\n",
            ")\n"
          ]
        }
      ]
    },
    {
      "cell_type": "markdown",
      "source": [
        "Define train and test functions"
      ],
      "metadata": {
        "id": "ijCTg-PA-iN9"
      }
    },
    {
      "cell_type": "code",
      "source": [
        "def train():\n",
        "      model.train()\n",
        "      optimizer.zero_grad()\n",
        "      out = model(data.x.double(), data.edge_index)\n",
        "      loss = criterion(out[train_mask], data.y[train_mask])\n",
        "      lossMAE = criterion2(out[train_mask], data.y[train_mask])\n",
        "      loss.backward()\n",
        "      optimizer.step()\n",
        "      return loss, lossMAE\n",
        "\n",
        "def test():\n",
        "      model.eval()\n",
        "      out = model(data.x.double(), data.edge_index)\n",
        "      test_error = out[test_mask] - data.y[test_mask]\n",
        "      mse_error = test_error**2\n",
        "      mae_error = abs(test_error)\n",
        "      test_mse = int(mse_error.sum()) / int(test_mask.sum())\n",
        "      test_mae = int(mae_error.sum()) / int(test_mask.sum())\n",
        "      return test_mse, test_mae"
      ],
      "metadata": {
        "id": "ifmXZTPCQO5f"
      },
      "execution_count": 25,
      "outputs": []
    },
    {
      "cell_type": "markdown",
      "source": [
        "Train and test the model"
      ],
      "metadata": {
        "id": "Jn181Ejw-l5L"
      }
    },
    {
      "cell_type": "code",
      "source": [
        "train_loss = {'MSE': [], 'MAE': []}\n",
        "\n",
        "for epoch in range(1, 50):\n",
        "    loss, lossMAE = train()\n",
        "    train_loss['MSE'].append(loss)\n",
        "    train_loss['MAE'].append(lossMAE)\n",
        "    print(f'Epoch: {epoch:03d}, MSE Loss: {loss:.4f}, MAE Loss: {lossMAE:.4f}')\n",
        "\n",
        "test_mse, test_mae = test()\n",
        "print(f'\\nTest MSE: {test_mse:.4f}')\n",
        "print(f'Test MAE: {test_mae:.4f}')"
      ],
      "metadata": {
        "colab": {
          "base_uri": "https://localhost:8080/"
        },
        "id": "gMF7mAf7TuVx",
        "outputId": "772acef1-725b-4463-d096-54fa5bf2582e"
      },
      "execution_count": 26,
      "outputs": [
        {
          "output_type": "stream",
          "name": "stdout",
          "text": [
            "Epoch: 001, MSE Loss: 4080.2320, MAE Loss: 63.0046\n",
            "Epoch: 002, MSE Loss: 5361460.2606, MAE Loss: 2065.4272\n",
            "Epoch: 003, MSE Loss: 1077438.5229, MAE Loss: 899.3891\n",
            "Epoch: 004, MSE Loss: 13465596.6632, MAE Loss: 3565.7176\n",
            "Epoch: 005, MSE Loss: 2432126.7470, MAE Loss: 1429.7877\n",
            "Epoch: 006, MSE Loss: 1221938.5768, MAE Loss: 974.6987\n",
            "Epoch: 007, MSE Loss: 137092.7187, MAE Loss: 301.4559\n",
            "Epoch: 008, MSE Loss: 677414.6444, MAE Loss: 772.9474\n",
            "Epoch: 009, MSE Loss: 309924.2286, MAE Loss: 510.3730\n",
            "Epoch: 010, MSE Loss: 336174.2929, MAE Loss: 510.9773\n",
            "Epoch: 011, MSE Loss: 213790.3947, MAE Loss: 422.7439\n",
            "Epoch: 012, MSE Loss: 33567.8790, MAE Loss: 147.5601\n",
            "Epoch: 013, MSE Loss: 192383.0514, MAE Loss: 406.2913\n",
            "Epoch: 014, MSE Loss: 65901.4606, MAE Loss: 227.4998\n",
            "Epoch: 015, MSE Loss: 13983.8851, MAE Loss: 94.0080\n",
            "Epoch: 016, MSE Loss: 76158.2883, MAE Loss: 243.6702\n",
            "Epoch: 017, MSE Loss: 35371.7169, MAE Loss: 144.7022\n",
            "Epoch: 018, MSE Loss: 10908.1614, MAE Loss: 79.5750\n",
            "Epoch: 019, MSE Loss: 3557.1430, MAE Loss: 48.2144\n",
            "Epoch: 020, MSE Loss: 4279.9469, MAE Loss: 52.3064\n",
            "Epoch: 021, MSE Loss: 5453.2784, MAE Loss: 67.6177\n",
            "Epoch: 022, MSE Loss: 20885.8322, MAE Loss: 111.8759\n",
            "Epoch: 023, MSE Loss: 5936.8981, MAE Loss: 75.6733\n",
            "Epoch: 024, MSE Loss: 6279.0464, MAE Loss: 77.5822\n",
            "Epoch: 025, MSE Loss: 5737.8198, MAE Loss: 73.9480\n",
            "Epoch: 026, MSE Loss: 4035.0437, MAE Loss: 62.9284\n",
            "Epoch: 027, MSE Loss: 4035.0186, MAE Loss: 62.9282\n",
            "Epoch: 028, MSE Loss: 4035.5200, MAE Loss: 62.9322\n",
            "Epoch: 029, MSE Loss: 4034.9484, MAE Loss: 62.9276\n",
            "Epoch: 030, MSE Loss: 4034.9042, MAE Loss: 62.9273\n",
            "Epoch: 031, MSE Loss: 4034.8546, MAE Loss: 62.9269\n",
            "Epoch: 032, MSE Loss: 4034.7999, MAE Loss: 62.9265\n",
            "Epoch: 033, MSE Loss: 4034.7404, MAE Loss: 62.9260\n",
            "Epoch: 034, MSE Loss: 4034.6764, MAE Loss: 62.9255\n",
            "Epoch: 035, MSE Loss: 4034.6083, MAE Loss: 62.9250\n",
            "Epoch: 036, MSE Loss: 4034.5363, MAE Loss: 62.9244\n",
            "Epoch: 037, MSE Loss: 4034.4606, MAE Loss: 62.9238\n",
            "Epoch: 038, MSE Loss: 4034.3815, MAE Loss: 62.9232\n",
            "Epoch: 039, MSE Loss: 4034.2991, MAE Loss: 62.9225\n",
            "Epoch: 040, MSE Loss: 4034.2137, MAE Loss: 62.9218\n",
            "Epoch: 041, MSE Loss: 4034.1254, MAE Loss: 62.9211\n",
            "Epoch: 042, MSE Loss: 4034.0344, MAE Loss: 62.9204\n",
            "Epoch: 043, MSE Loss: 4033.9407, MAE Loss: 62.9197\n",
            "Epoch: 044, MSE Loss: 4033.8447, MAE Loss: 62.9189\n",
            "Epoch: 045, MSE Loss: 4033.7462, MAE Loss: 62.9182\n",
            "Epoch: 046, MSE Loss: 4033.6456, MAE Loss: 62.9174\n",
            "Epoch: 047, MSE Loss: 4033.5428, MAE Loss: 62.9165\n",
            "Epoch: 048, MSE Loss: 4033.4379, MAE Loss: 62.9157\n",
            "Epoch: 049, MSE Loss: 4033.3312, MAE Loss: 62.9149\n",
            "\n",
            "Test MSE: 3984.6758\n",
            "Test MAE: 62.3455\n"
          ]
        }
      ]
    },
    {
      "cell_type": "markdown",
      "source": [
        "Plot train loss"
      ],
      "metadata": {
        "id": "LZyV0W3Q2Gte"
      }
    },
    {
      "cell_type": "code",
      "source": [
        "#plot train losses\n",
        "mse_loss = [float(x) for x in train_loss['MSE']]\n",
        "mae_loss = [float(x) for x in train_loss['MAE']]\n",
        "\n",
        "plt.plot(range(len(mse_loss)), mse_loss, label='MSE')\n",
        "plt.title('MSE')\n",
        "plt.show()\n",
        "\n",
        "plt.plot(range(len(mae_loss)), mae_loss, label='MAE')\n",
        "plt.title('MAE')\n",
        "plt.show()"
      ],
      "metadata": {
        "colab": {
          "base_uri": "https://localhost:8080/",
          "height": 545
        },
        "id": "-18w8DyMzmgi",
        "outputId": "5acddd1c-bb87-4685-cda5-9aaeab968668"
      },
      "execution_count": 27,
      "outputs": [
        {
          "output_type": "display_data",
          "data": {
            "text/plain": [
              "<Figure size 432x288 with 1 Axes>"
            ],
            "image/png": "[encoded data removed]"
          },
          "metadata": {
            "needs_background": "light"
          }
        },
        {
          "output_type": "display_data",
          "data": {
            "text/plain": [
              "<Figure size 432x288 with 1 Axes>"
            ],
            "image/png": "[encoded data removed]"
          },
          "metadata": {
            "needs_background": "light"
          }
        }
      ]
    }
  ]
}