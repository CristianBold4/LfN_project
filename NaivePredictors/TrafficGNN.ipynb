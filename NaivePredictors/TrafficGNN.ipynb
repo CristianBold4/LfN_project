{
  "cells": [
    {
      "cell_type": "markdown",
      "metadata": {
        "id": "ym1PCRtQ382W"
      },
      "source": [
        "# Traffic Forecasting using Graph Neural Networks"
      ]
    },
    {
      "cell_type": "code",
      "execution_count": null,
      "metadata": {
        "id": "fRdUMAgV367G"
      },
      "outputs": [],
      "source": [
        "#install pytorch geometric\n",
        "!pip install torch-scatter torch-sparse -f https://data.pyg.org/whl/torch-1.13.0+cpu.html\n",
        "!pip install torch-geometric\n",
        "\n",
        "import numpy as np\n",
        "import pandas as pd\n",
        "from matplotlib import pyplot as plt\n",
        "from google.colab import drive\n",
        "import scipy.sparse as sp\n",
        "import torch\n",
        "import torch.utils.data\n",
        "from torch_geometric.utils import from_networkx\n",
        "import networkx as nx\n",
        "import math\n",
        "import random\n",
        "\n",
        "from sklearn import preprocessing\n",
        "drive.mount('/content/drive')"
      ]
    },
    {
      "cell_type": "markdown",
      "metadata": {
        "id": "BpX2bavi4MYx"
      },
      "source": [
        "Get dataset files (upload correspondent *adj.npz* file into colab content folder)"
      ]
    },
    {
      "cell_type": "code",
      "execution_count": null,
      "metadata": {
        "id": "aKIiB_up4J6M"
      },
      "outputs": [],
      "source": [
        "#METR-LA dataset\n",
        "#!cp /content/drive/MyDrive/metr-la.csv /content/dataset.csv\n",
        "\n",
        "#Pems-bay dataset\n",
        "#!cp /content/drive/MyDrive/pems-bay.csv /content/dataset.csv\n",
        "\n",
        "#Pemsd7-m dataset\n",
        "!cp /content/drive/MyDrive/pemsd7-m.csv /content/dataset.csv"
      ]
    },
    {
      "cell_type": "code",
      "execution_count": null,
      "metadata": {
        "id": "prbGrIV74Sc2"
      },
      "outputs": [],
      "source": [
        "#dataset path\n",
        "dataset_path = '/content/dataset.csv'\n",
        "npz_path = '/content/adj.npz'"
      ]
    },
    {
      "attachments": {},
      "cell_type": "markdown",
      "metadata": {
        "id": "tdMTWJfj9iJ8"
      },
      "source": [
        "Read dataset and convert values into numpy array"
      ]
    },
    {
      "cell_type": "code",
      "execution_count": null,
      "metadata": {
        "colab": {
          "base_uri": "https://localhost:8080/"
        },
        "id": "8lJ7jLz273nS",
        "outputId": "68c4b051-5fb9-4f6c-ffc6-43dbd5910ed3"
      },
      "outputs": [
        {
          "data": {
            "text/plain": [
              "array([[68.1, 66.8, 61.7, ..., 67.7, 68.8, 68.8],\n",
              "       [68. , 64.3, 66.6, ..., 70.2, 69.1, 68.7],\n",
              "       [68.3, 67.8, 65.9, ..., 70.4, 67.3, 69. ],\n",
              "       ...,\n",
              "       [68.9, 37.9, 68.8, ..., 68.7, 67.5, 19.7],\n",
              "       [69.2, 37.8, 68.7, ..., 67.7, 67.4, 19.5],\n",
              "       [68.6, 52.9, 68.6, ..., 68.1, 68.5, 19.1]], dtype=float128)"
            ]
          },
          "execution_count": 152,
          "metadata": {},
          "output_type": "execute_result"
        }
      ],
      "source": [
        "# read the CSV file\n",
        "df = pd.read_csv(dataset_path)\n",
        "\n",
        "dataset = df.values\n",
        "dataset.astype(np.float128)"
      ]
    },
    {
      "cell_type": "markdown",
      "metadata": {
        "id": "EVSTiUn29zIh"
      },
      "source": [
        "Get data from *adj.npz* file"
      ]
    },
    {
      "cell_type": "code",
      "execution_count": null,
      "metadata": {
        "id": "M-epXSAB1XwO"
      },
      "outputs": [],
      "source": [
        "# convert adj to Compressed Sparse Column format\n",
        "adj = sp.load_npz(npz_path)\n",
        "n = adj.shape[0]\n",
        "adj = adj.tocsc()\n",
        "adj = adj.todense()"
      ]
    },
    {
      "cell_type": "markdown",
      "metadata": {
        "id": "vWhJ5zq-94zA"
      },
      "source": [
        "### Create correspondent graph using networkx package"
      ]
    },
    {
      "cell_type": "code",
      "execution_count": null,
      "metadata": {
        "id": "WCyQQQYG1LkA"
      },
      "outputs": [],
      "source": [
        "#create graph\n",
        "G = nx.Graph()\n",
        "\n",
        "for i in range(adj.shape[0]):\n",
        "  for j in range(adj.shape[0]):\n",
        "    if adj[i, j] != 1 and adj[i, j] != 0 and not G.has_edge(j, i):\n",
        "      G.add_edge(i, j, length=adj[i, j])"
      ]
    },
    {
      "cell_type": "code",
      "execution_count": null,
      "metadata": {
        "id": "M2rD8ryZ6uRr"
      },
      "outputs": [],
      "source": [
        "#set sensor number and measurements values attributes to all nodes\n",
        "nx.set_node_attributes(G, 0, 'x')\n",
        "nx.set_node_attributes(G, 0, 'y')\n",
        "\n",
        "rate = 0.8\n",
        "x_size = int(dataset.shape[0] * rate)\n",
        "\n",
        "for i in range(dataset.shape[1]):\n",
        "  #standard approach\n",
        "  G.nodes[i]['x'] = dataset[:x_size, i]\n",
        "  G.nodes[i]['y'] = dataset[x_size:, i]"
      ]
    },
    {
      "cell_type": "code",
      "execution_count": null,
      "metadata": {
        "colab": {
          "base_uri": "https://localhost:8080/"
        },
        "id": "WVSeZguL8xJH",
        "outputId": "7aea553d-35fa-48f1-f597-eb9a7da801cf"
      },
      "outputs": [
        {
          "name": "stdout",
          "output_type": "stream",
          "text": [
            "<class 'torch_geometric.data.data.Data'>\n",
            "Data(x=[228, 10136], edge_index=[2, 18856], y=[228, 2535], length=[18856])\n",
            "tensor([[68.1000, 68.0000, 68.3000,  ..., 68.9000, 70.4000, 71.4000],\n",
            "        [66.8000, 64.3000, 67.8000,  ..., 65.8000, 70.6000, 66.0000],\n",
            "        [61.7000, 66.6000, 65.9000,  ..., 70.8000, 71.6000, 71.7000],\n",
            "        ...,\n",
            "        [67.7000, 67.8000, 67.1000,  ..., 68.0000, 66.8000, 65.5000],\n",
            "        [70.8000, 68.1000, 71.3000,  ..., 66.3000, 64.0000, 65.9000],\n",
            "        [67.1000, 66.7000, 67.2000,  ..., 66.2000, 65.8000, 65.1000]],\n",
            "       dtype=torch.float64)\n",
            "tensor([[  0,   0,   0,  ..., 227, 227, 227],\n",
            "        [  1,   2,   3,  ..., 224, 225, 226]])\n"
          ]
        }
      ],
      "source": [
        "#convert into torch geometric data\n",
        "data = from_networkx(G)\n",
        "print(type(data))\n",
        "\n",
        "print(data)\n",
        "print(data.x)\n",
        "print(data.edge_index)"
      ]
    },
    {
      "cell_type": "code",
      "execution_count": null,
      "metadata": {
        "id": "BLm58l6rFGe8"
      },
      "outputs": [],
      "source": [
        "# Split the data \n",
        "train_ratio = 0.2\n",
        "num_nodes = data.x.shape[0]\n",
        "num_train = int(num_nodes * train_ratio)\n",
        "idx = [i for i in range(num_nodes)]\n",
        "\n",
        "np.random.shuffle(idx)\n",
        "train_mask = torch.full_like(data.y, False, dtype=bool)\n",
        "train_mask[idx[:num_train]] = True\n",
        "test_mask = torch.full_like(data.y, False, dtype=bool)\n",
        "test_mask[idx[num_train:]] = True"
      ]
    },
    {
      "cell_type": "markdown",
      "metadata": {
        "id": "i0BLVVGy-eLG"
      },
      "source": [
        "### GCN Model"
      ]
    },
    {
      "cell_type": "code",
      "execution_count": null,
      "metadata": {
        "id": "rbISA1ReAVai"
      },
      "outputs": [],
      "source": [
        "from torch_geometric.nn import GCNConv\n",
        "import torch.nn.functional as F\n",
        "\n",
        "class GCN(torch.nn.Module):\n",
        "    def __init__(self, hidden_channels):\n",
        "        super().__init__()\n",
        "        torch.manual_seed(123)\n",
        "        self.conv1 = GCNConv(data.num_features, hidden_channels)\n",
        "        self.lin1 = torch.nn.Linear(hidden_channels, hidden_channels*2)\n",
        "        self.lin2 = torch.nn.Linear(hidden_channels*2, data.y.shape[1])\n",
        "\n",
        "    def forward(self, x, edge_index):\n",
        "        x = self.conv1(x, edge_index)\n",
        "        x = x.relu()\n",
        "        x = F.dropout(x, p=0.3, training=self.training)\n",
        "        x = self.lin1(x)\n",
        "        x = x.relu()\n",
        "        x = F.dropout(x, p=0.3, training=self.training)\n",
        "        x = self.lin2(x)\n",
        "        return x"
      ]
    },
    {
      "cell_type": "code",
      "execution_count": null,
      "metadata": {
        "colab": {
          "base_uri": "https://localhost:8080/"
        },
        "id": "z7Sj2UVvg-iJ",
        "outputId": "46c481dd-6bff-49d4-d83a-c522a4f79985"
      },
      "outputs": [
        {
          "name": "stdout",
          "output_type": "stream",
          "text": [
            "GCN(\n",
            "  (conv1): GCNConv(10136, 500)\n",
            "  (lin1): Linear(in_features=500, out_features=1000, bias=True)\n",
            "  (lin2): Linear(in_features=1000, out_features=2535, bias=True)\n",
            ")\n"
          ]
        }
      ],
      "source": [
        "model = GCN(hidden_channels=500)\n",
        "print(model)\n",
        "model = model.double()\n",
        "optimizer = torch.optim.Adam(model.parameters(), lr=1e-4, weight_decay=1e-4)\n",
        "criterion = torch.nn.MSELoss()\n",
        "criterion2 = torch.nn.L1Loss()"
      ]
    },
    {
      "cell_type": "markdown",
      "metadata": {
        "id": "ijCTg-PA-iN9"
      },
      "source": [
        "Define train and test functions"
      ]
    },
    {
      "cell_type": "code",
      "execution_count": null,
      "metadata": {
        "id": "ifmXZTPCQO5f"
      },
      "outputs": [],
      "source": [
        "def train():\n",
        "      model.train()\n",
        "      optimizer.zero_grad()\n",
        "      out = model(data.x.double(), data.edge_index)\n",
        "      loss = criterion(out[train_mask], data.y[train_mask])\n",
        "      lossMAE = criterion2(out[train_mask], data.y[train_mask])\n",
        "      loss.backward()\n",
        "      optimizer.step()\n",
        "      loss = torch.sqrt(loss)\n",
        "      return loss, lossMAE\n",
        "\n",
        "def test():\n",
        "      model.eval()\n",
        "      out = model(data.x.double(), data.edge_index)\n",
        "      test_error = out[test_mask] - data.y[test_mask]\n",
        "      mse_error = test_error**2\n",
        "      mae_error = abs(test_error)\n",
        "      rmse = torch.sqrt(torch.mean((out[test_mask]-data.y[test_mask])**2))\n",
        "      test_mse = int(mse_error.sum()) / int(test_mask.sum())\n",
        "      test_mae = int(mae_error.sum()) / int(test_mask.sum())\n",
        "      return rmse, test_mae, out"
      ]
    },
    {
      "cell_type": "markdown",
      "metadata": {
        "id": "Jn181Ejw-l5L"
      },
      "source": [
        "Train and test the model"
      ]
    },
    {
      "cell_type": "code",
      "execution_count": null,
      "metadata": {
        "id": "gMF7mAf7TuVx"
      },
      "outputs": [],
      "source": [
        "train_loss = {'RMSE': [], 'MAE': []}\n",
        "\n",
        "for epoch in range(1, 300):\n",
        "    loss, lossMAE = train()\n",
        "    train_loss['RMSE'].append(loss)\n",
        "    train_loss['MAE'].append(lossMAE)\n",
        "    print(f'Epoch: {epoch:03d}, RMSE Loss: {loss:.4f}, MAE Loss: {lossMAE:.4f}')"
      ]
    },
    {
      "cell_type": "code",
      "execution_count": null,
      "metadata": {
        "colab": {
          "base_uri": "https://localhost:8080/"
        },
        "id": "2WC6d-ps3WxV",
        "outputId": "6b64a1a4-4846-4dd8-b31b-6e2c4acd04cf"
      },
      "outputs": [
        {
          "name": "stdout",
          "output_type": "stream",
          "text": [
            "\n",
            "Test RMSE: 12.9302\n",
            "Test MAE: 9.9424\n"
          ]
        }
      ],
      "source": [
        "#test\n",
        "test_mse, test_mae, out = test()\n",
        "print(f'\\nTest RMSE: {test_mse:.4f}')\n",
        "print(f'Test MAE: {test_mae:.4f}')"
      ]
    },
    {
      "cell_type": "markdown",
      "metadata": {
        "id": "LZyV0W3Q2Gte"
      },
      "source": [
        "Plot train loss"
      ]
    },
    {
      "cell_type": "code",
      "execution_count": null,
      "metadata": {
        "colab": {
          "base_uri": "https://localhost:8080/",
          "height": 545
        },
        "id": "-18w8DyMzmgi",
        "outputId": "19ef0363-0de1-417c-aad3-0eb22578afb4"
      },
      "outputs": [
        {
          "data": {
            "image/png": "[encoded data removed]",
            "text/plain": [
              "<Figure size 432x288 with 1 Axes>"
            ]
          },
          "metadata": {
            "needs_background": "light"
          },
          "output_type": "display_data"
        },
        {
          "data": {
            "image/png": "[encoded data removed]",
            "text/plain": [
              "<Figure size 432x288 with 1 Axes>"
            ]
          },
          "metadata": {
            "needs_background": "light"
          },
          "output_type": "display_data"
        }
      ],
      "source": [
        "#plot train losses\n",
        "mse_loss = [float(x) for x in train_loss['RMSE']]\n",
        "mae_loss = [float(x) for x in train_loss['MAE']]\n",
        "\n",
        "plt.plot(range(len(mse_loss)), mse_loss, label='MSE')\n",
        "plt.title('MSE')\n",
        "plt.show()\n",
        "\n",
        "plt.plot(range(len(mae_loss)), mae_loss, label='MAE')\n",
        "plt.title('MAE')\n",
        "plt.show()"
      ]
    },
    {
      "cell_type": "code",
      "execution_count": null,
      "metadata": {
        "colab": {
          "base_uri": "https://localhost:8080/",
          "height": 279
        },
        "id": "dR8A7ye8Wl_e",
        "outputId": "baea2d82-f034-4218-b0eb-97d874f70c7a"
      },
      "outputs": [
        {
          "data": {
            "image/png": "[encoded data removed]",
            "text/plain": [
              "<Figure size 432x288 with 1 Axes>"
            ]
          },
          "metadata": {
            "needs_background": "light"
          },
          "output_type": "display_data"
        }
      ],
      "source": [
        "day_size = 288\n",
        "day = np.arange(day_size).tolist()\n",
        "\n",
        "sensor_id = 163\n",
        "\n",
        "predictions = out[sensor_id, :day_size].detach().numpy()\n",
        "true_val = data.y[sensor_id, :day_size].tolist()\n",
        "\n",
        "l1, = plt.plot(day, predictions, color='red')\n",
        "l2, = plt.plot(day, true_val, color='blue')\n",
        "\n",
        "plt.legend((l1, l2), ['Predicted speed', 'True speed'])\n",
        "\n",
        "plt.xlabel('Day slot')\n",
        "plt.ylabel('Speed')\n",
        "plt.xticks(np.arange(min(day) + 4*12, max(day) + 2, 6*12), labels=('04:00', '10:00', '16:00', '22:00'))\n",
        "\n",
        "plt.show()"
      ]
    }
  ],
  "metadata": {
    "colab": {
      "provenance": []
    },
    "gpuClass": "standard",
    "kernelspec": {
      "display_name": "venv",
      "language": "python",
      "name": "python3"
    },
    "language_info": {
      "name": "python",
      "version": "3.9.2 (tags/v3.9.2:1a79785, Feb 19 2021, 13:44:55) [MSC v.1928 64 bit (AMD64)]"
    },
    "vscode": {
      "interpreter": {
        "hash": "12aaadd0042e06402299baccf556a97d5f2b243881d0d749fe9f9ffc6f566429"
      }
    }
  },
  "nbformat": 4,
  "nbformat_minor": 0
}
