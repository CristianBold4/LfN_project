{
  "nbformat": 4,
  "nbformat_minor": 0,
  "metadata": {
    "colab": {
      "provenance": []
    },
    "kernelspec": {
      "name": "python3",
      "display_name": "Python 3"
    },
    "language_info": {
      "name": "python"
    },
    "gpuClass": "standard"
  },
  "cells": [
    {
      "cell_type": "markdown",
      "source": [
        "# Traffic Forecasting using Graph Neural Networks"
      ],
      "metadata": {
        "id": "ym1PCRtQ382W"
      }
    },
    {
      "cell_type": "code",
      "execution_count": 1,
      "metadata": {
        "colab": {
          "base_uri": "https://localhost:8080/",
          "height": 923
        },
        "id": "fRdUMAgV367G",
        "outputId": "5abf0d51-d9c4-4fda-d971-2aca0e1bb599"
      },
      "outputs": [
        {
          "output_type": "stream",
          "name": "stdout",
          "text": [
            "Looking in indexes: https://pypi.org/simple, https://us-python.pkg.dev/colab-wheels/public/simple/\n",
            "Looking in links: https://data.pyg.org/whl/torch-1.13.0+cpu.html\n",
            "Collecting torch-scatter\n",
            "  Downloading https://data.pyg.org/whl/torch-1.13.0%2Bcpu/torch_scatter-2.1.0%2Bpt113cpu-cp38-cp38-linux_x86_64.whl (491 kB)\n",
            "\u001b[2K     \u001b[90m━━━━━━━━━━━━━━━━━━━━━━━━━━━━━━━━━━━━━━━\u001b[0m \u001b[32m491.2/491.2 KB\u001b[0m \u001b[31m4.8 MB/s\u001b[0m eta \u001b[36m0:00:00\u001b[0m\n",
            "\u001b[?25hCollecting torch-sparse\n",
            "  Downloading https://data.pyg.org/whl/torch-1.13.0%2Bcpu/torch_sparse-0.6.16%2Bpt113cpu-cp38-cp38-linux_x86_64.whl (1.1 MB)\n",
            "\u001b[2K     \u001b[90m━━━━━━━━━━━━━━━━━━━━━━━━━━━━━━━━━━━━━━━━\u001b[0m \u001b[32m1.1/1.1 MB\u001b[0m \u001b[31m32.2 MB/s\u001b[0m eta \u001b[36m0:00:00\u001b[0m\n",
            "\u001b[?25hRequirement already satisfied: scipy in /usr/local/lib/python3.8/dist-packages (from torch-sparse) (1.7.3)\n",
            "Requirement already satisfied: numpy<1.23.0,>=1.16.5 in /usr/local/lib/python3.8/dist-packages (from scipy->torch-sparse) (1.21.6)\n",
            "Installing collected packages: torch-scatter, torch-sparse\n",
            "Successfully installed torch-scatter-2.1.0+pt113cpu torch-sparse-0.6.16+pt113cpu\n",
            "Looking in indexes: https://pypi.org/simple, https://us-python.pkg.dev/colab-wheels/public/simple/\n",
            "Collecting torch-geometric\n",
            "  Downloading torch_geometric-2.2.0.tar.gz (564 kB)\n",
            "\u001b[2K     \u001b[90m━━━━━━━━━━━━━━━━━━━━━━━━━━━━━━━━━━━━━━\u001b[0m \u001b[32m565.0/565.0 KB\u001b[0m \u001b[31m15.2 MB/s\u001b[0m eta \u001b[36m0:00:00\u001b[0m\n",
            "\u001b[?25h  Preparing metadata (setup.py) ... \u001b[?25l\u001b[?25hdone\n",
            "Requirement already satisfied: tqdm in /usr/local/lib/python3.8/dist-packages (from torch-geometric) (4.64.1)\n",
            "Requirement already satisfied: numpy in /usr/local/lib/python3.8/dist-packages (from torch-geometric) (1.21.6)\n",
            "Requirement already satisfied: scipy in /usr/local/lib/python3.8/dist-packages (from torch-geometric) (1.7.3)\n",
            "Requirement already satisfied: jinja2 in /usr/local/lib/python3.8/dist-packages (from torch-geometric) (2.11.3)\n",
            "Requirement already satisfied: requests in /usr/local/lib/python3.8/dist-packages (from torch-geometric) (2.25.1)\n",
            "Requirement already satisfied: pyparsing in /usr/local/lib/python3.8/dist-packages (from torch-geometric) (3.0.9)\n",
            "Requirement already satisfied: scikit-learn in /usr/local/lib/python3.8/dist-packages (from torch-geometric) (1.0.2)\n",
            "Collecting psutil>=5.8.0\n",
            "  Downloading psutil-5.9.4-cp36-abi3-manylinux_2_12_x86_64.manylinux2010_x86_64.manylinux_2_17_x86_64.manylinux2014_x86_64.whl (280 kB)\n",
            "\u001b[2K     \u001b[90m━━━━━━━━━━━━━━━━━━━━━━━━━━━━━━━━━━━━━━\u001b[0m \u001b[32m280.2/280.2 KB\u001b[0m \u001b[31m35.0 MB/s\u001b[0m eta \u001b[36m0:00:00\u001b[0m\n",
            "\u001b[?25hRequirement already satisfied: MarkupSafe>=0.23 in /usr/local/lib/python3.8/dist-packages (from jinja2->torch-geometric) (2.0.1)\n",
            "Requirement already satisfied: chardet<5,>=3.0.2 in /usr/local/lib/python3.8/dist-packages (from requests->torch-geometric) (4.0.0)\n",
            "Requirement already satisfied: certifi>=2017.4.17 in /usr/local/lib/python3.8/dist-packages (from requests->torch-geometric) (2022.12.7)\n",
            "Requirement already satisfied: urllib3<1.27,>=1.21.1 in /usr/local/lib/python3.8/dist-packages (from requests->torch-geometric) (1.24.3)\n",
            "Requirement already satisfied: idna<3,>=2.5 in /usr/local/lib/python3.8/dist-packages (from requests->torch-geometric) (2.10)\n",
            "Requirement already satisfied: threadpoolctl>=2.0.0 in /usr/local/lib/python3.8/dist-packages (from scikit-learn->torch-geometric) (3.1.0)\n",
            "Requirement already satisfied: joblib>=0.11 in /usr/local/lib/python3.8/dist-packages (from scikit-learn->torch-geometric) (1.2.0)\n",
            "Building wheels for collected packages: torch-geometric\n",
            "  Building wheel for torch-geometric (setup.py) ... \u001b[?25l\u001b[?25hdone\n",
            "  Created wheel for torch-geometric: filename=torch_geometric-2.2.0-py3-none-any.whl size=773302 sha256=093c0c4762550aeaf5c3812b0b2bd4579b7d74a240777c7a78c861745a4ca196\n",
            "  Stored in directory: /root/.cache/pip/wheels/59/a3/20/198928106d3169865ae73afcbd3d3d1796cf6b429b55c65378\n",
            "Successfully built torch-geometric\n",
            "Installing collected packages: psutil, torch-geometric\n",
            "  Attempting uninstall: psutil\n",
            "    Found existing installation: psutil 5.4.8\n",
            "    Uninstalling psutil-5.4.8:\n",
            "      Successfully uninstalled psutil-5.4.8\n",
            "Successfully installed psutil-5.9.4 torch-geometric-2.2.0\n"
          ]
        },
        {
          "output_type": "display_data",
          "data": {
            "application/vnd.colab-display-data+json": {
              "pip_warning": {
                "packages": [
                  "psutil"
                ]
              }
            }
          },
          "metadata": {}
        },
        {
          "output_type": "stream",
          "name": "stdout",
          "text": [
            "Mounted at /content/drive\n"
          ]
        }
      ],
      "source": [
        "#install pytorch geometric\n",
        "!pip install torch-scatter torch-sparse -f https://data.pyg.org/whl/torch-1.13.0+cpu.html\n",
        "!pip install torch-geometric\n",
        "\n",
        "import numpy as np\n",
        "import pandas as pd\n",
        "from matplotlib import pyplot as plt\n",
        "from google.colab import drive\n",
        "import scipy.sparse as sp\n",
        "import torch\n",
        "import torch.utils.data\n",
        "from torch_geometric.utils.convert import from_networkx\n",
        "import networkx as nx\n",
        "import math\n",
        "\n",
        "from sklearn import preprocessing\n",
        "drive.mount('/content/drive')"
      ]
    },
    {
      "cell_type": "markdown",
      "source": [
        "Get dataset files (upload correspondent *adj.npz* file into colab content folder)"
      ],
      "metadata": {
        "id": "BpX2bavi4MYx"
      }
    },
    {
      "cell_type": "code",
      "source": [
        "#METR-LA dataset without saturdays and sundays\n",
        "#!cp /content/drive/MyDrive/modified-METRLA.csv /content/dataset.csv\n",
        "\n",
        "#Pems-bay dataset\n",
        "!cp /content/drive/MyDrive/pems-bay.csv /content/dataset.csv\n",
        "\n",
        "#Pemsd7-m dataset\n",
        "#!cp /content/drive/MyDrive/pemsd7-m.csv /content/dataset.csv"
      ],
      "metadata": {
        "id": "aKIiB_up4J6M"
      },
      "execution_count": 4,
      "outputs": []
    },
    {
      "cell_type": "code",
      "source": [
        "#dataset path\n",
        "dataset_path = '/content/dataset.csv'\n",
        "npz_path = '/content/adj.npz'"
      ],
      "metadata": {
        "id": "prbGrIV74Sc2"
      },
      "execution_count": 5,
      "outputs": []
    },
    {
      "cell_type": "markdown",
      "source": [
        "Clear dataset removing first column of date info if necessary and convert values into numpy array"
      ],
      "metadata": {
        "id": "tdMTWJfj9iJ8"
      }
    },
    {
      "cell_type": "code",
      "source": [
        "# read the CSV file\n",
        "df = pd.read_csv(dataset_path)\n",
        "\n",
        "# drop the first column if modified METR-LA dataset\n",
        "#df = df.drop(df.columns[0], axis=1)\n",
        "dataset = df.values\n",
        "dataset.astype(np.float128)\n",
        "\n",
        "# save the modified dataframe\n",
        "#df.to_csv(dataset_path, index=False)"
      ],
      "metadata": {
        "id": "8lJ7jLz273nS",
        "colab": {
          "base_uri": "https://localhost:8080/"
        },
        "outputId": "53b69907-2fd1-4ec0-b43f-01c897a04d47"
      },
      "execution_count": 22,
      "outputs": [
        {
          "output_type": "execute_result",
          "data": {
            "text/plain": [
              "array([[71.6, 67.5, 70.6, ..., 68.4, 70.8, 67.4],\n",
              "       [71.6, 67.6, 70.2, ..., 68.4, 70.5, 67.9],\n",
              "       [71.1, 67.5, 70.3, ..., 68.4, 70.8, 67.6],\n",
              "       ...,\n",
              "       [71.4, 66.9, 68.1, ..., 68.4, 71.6, 66.6],\n",
              "       [72.2, 66.5, 68. , ..., 68.7, 71.6, 68.4],\n",
              "       [71.5, 66.2, 68.4, ..., 68.7, 71.6, 68. ]], dtype=float128)"
            ]
          },
          "metadata": {},
          "execution_count": 22
        }
      ]
    },
    {
      "cell_type": "markdown",
      "source": [
        "Get data from *adj.npz* file"
      ],
      "metadata": {
        "id": "EVSTiUn29zIh"
      }
    },
    {
      "cell_type": "code",
      "source": [
        "# convert adj to Compressed Sparse Column format\n",
        "adj = sp.load_npz(npz_path)\n",
        "n = adj.shape[0]\n",
        "adj = adj.tocsc()\n",
        "adj = adj.todense()"
      ],
      "metadata": {
        "id": "M-epXSAB1XwO"
      },
      "execution_count": 23,
      "outputs": []
    },
    {
      "cell_type": "markdown",
      "source": [
        "### Create correspondent graph using networkx package"
      ],
      "metadata": {
        "id": "vWhJ5zq-94zA"
      }
    },
    {
      "cell_type": "code",
      "source": [
        "#create graph\n",
        "G = nx.Graph()\n",
        "\n",
        "for i in range(adj.shape[0]):\n",
        "  for j in range(adj.shape[0]):\n",
        "    if adj[i, j] != 1 and adj[i, j] != 0 and not G.has_edge(i, j):\n",
        "      G.add_edge(i, j, length=adj[i, j])"
      ],
      "metadata": {
        "id": "WCyQQQYG1LkA"
      },
      "execution_count": 24,
      "outputs": []
    },
    {
      "cell_type": "code",
      "source": [
        "#plot it\n",
        "#%matplotlib inline\n",
        "#import matplotlib.pyplot as plt\n",
        "#nx.draw(G)"
      ],
      "metadata": {
        "id": "4QF5hGHJ6cLo"
      },
      "execution_count": 26,
      "outputs": []
    },
    {
      "cell_type": "code",
      "source": [
        "#set sensor number and measurements values attributes to all nodes\n",
        "nx.set_node_attributes(G, 0, 'x')\n",
        "nx.set_node_attributes(G, 0, 'y')\n",
        "\n",
        "rate = 0.8\n",
        "x_size = int(dataset.shape[0] * rate)\n",
        "\n",
        "for i in range(dataset.shape[1]):\n",
        "  G.nodes[i]['x'] = dataset[:x_size, i]\n",
        "  G.nodes[i]['y'] = dataset[x_size:, i]"
      ],
      "metadata": {
        "id": "M2rD8ryZ6uRr"
      },
      "execution_count": 25,
      "outputs": []
    },
    {
      "cell_type": "code",
      "source": [
        "#convert into torch geometric data\n",
        "data = from_networkx(G)\n",
        "print(type(data))\n",
        "\n",
        "print(data)\n",
        "print(data.x)\n",
        "print(data.edge_index)"
      ],
      "metadata": {
        "colab": {
          "base_uri": "https://localhost:8080/"
        },
        "id": "WVSeZguL8xJH",
        "outputId": "43911aaa-92f4-4451-9423-c8b60ba8be84"
      },
      "execution_count": 26,
      "outputs": [
        {
          "output_type": "stream",
          "name": "stdout",
          "text": [
            "<class 'torch_geometric.data.data.Data'>\n",
            "Data(x=[325, 41692], edge_index=[2, 38562], y=[325, 10423], length=[38562])\n",
            "tensor([[71.6000, 71.6000, 71.1000,  ..., 71.2000, 72.7000, 71.9000],\n",
            "        [70.6000, 70.2000, 70.3000,  ..., 54.7000, 55.0000, 55.4000],\n",
            "        [67.5000, 67.4000, 68.0000,  ..., 53.6000, 56.2000, 56.8000],\n",
            "        ...,\n",
            "        [70.2000, 70.6000, 70.3000,  ..., 58.8000, 60.7000, 58.1000],\n",
            "        [64.9000, 64.9000, 64.7000,  ..., 64.1000, 65.0000, 66.3000],\n",
            "        [65.0000, 65.0000, 65.0000,  ..., 29.3000, 29.6000, 30.3000]],\n",
            "       dtype=torch.float64)\n",
            "tensor([[  0,   0,   0,  ..., 324, 324, 324],\n",
            "        [  1,   2,   3,  ..., 321, 322, 323]])\n"
          ]
        }
      ]
    },
    {
      "cell_type": "code",
      "source": [
        "# Split the data \n",
        "train_ratio = 0.2\n",
        "num_nodes = data.x.shape[0]\n",
        "num_train = int(num_nodes * train_ratio)\n",
        "idx = [i for i in range(num_nodes)]\n",
        "\n",
        "np.random.shuffle(idx)\n",
        "train_mask = torch.full_like(data.y, False, dtype=bool)\n",
        "train_mask[idx[:num_train]] = True\n",
        "test_mask = torch.full_like(data.y, False, dtype=bool)\n",
        "test_mask[idx[num_train:]] = True"
      ],
      "metadata": {
        "id": "BLm58l6rFGe8"
      },
      "execution_count": 27,
      "outputs": []
    },
    {
      "cell_type": "markdown",
      "source": [
        "### GCN Model"
      ],
      "metadata": {
        "id": "i0BLVVGy-eLG"
      }
    },
    {
      "cell_type": "code",
      "source": [
        "from torch_geometric.nn import GCNConv\n",
        "import torch.nn.functional as F\n",
        "\n",
        "class GCN(torch.nn.Module):\n",
        "    def __init__(self, hidden_channels):\n",
        "        super().__init__()\n",
        "        torch.manual_seed(1234567)\n",
        "        self.conv1 = GCNConv(data.num_features, hidden_channels*2)\n",
        "        self.conv2 = GCNConv(hidden_channels*2, hidden_channels)\n",
        "        self.conv3 = GCNConv(hidden_channels, data.y.shape[1])\n",
        "\n",
        "    def forward(self, x, edge_index):\n",
        "        x = self.conv1(x, edge_index)\n",
        "        x = x.relu()\n",
        "        x = F.dropout(x, p=0.5, training=self.training)\n",
        "        x = self.conv2(x, edge_index)\n",
        "        x = x.relu()\n",
        "        x = F.dropout(x, p=0.5, training=self.training)\n",
        "        x = self.conv3(x, edge_index)\n",
        "        return x"
      ],
      "metadata": {
        "id": "rbISA1ReAVai"
      },
      "execution_count": 28,
      "outputs": []
    },
    {
      "cell_type": "code",
      "source": [
        "model = GCN(hidden_channels=100)\n",
        "print(model)\n",
        "model = model.double()\n",
        "optimizer = torch.optim.Adam(model.parameters(), lr=0.01, weight_decay=5e-4)\n",
        "criterion = torch.nn.MSELoss()"
      ],
      "metadata": {
        "colab": {
          "base_uri": "https://localhost:8080/"
        },
        "id": "z7Sj2UVvg-iJ",
        "outputId": "f27d8533-30c6-48fa-db2a-57ec07972daf"
      },
      "execution_count": 29,
      "outputs": [
        {
          "output_type": "stream",
          "name": "stdout",
          "text": [
            "GCN(\n",
            "  (conv1): GCNConv(41692, 200)\n",
            "  (conv2): GCNConv(200, 100)\n",
            "  (conv3): GCNConv(100, 10423)\n",
            ")\n"
          ]
        }
      ]
    },
    {
      "cell_type": "markdown",
      "source": [
        "Define train and test functions"
      ],
      "metadata": {
        "id": "ijCTg-PA-iN9"
      }
    },
    {
      "cell_type": "code",
      "source": [
        "def train():\n",
        "      model.train()\n",
        "      optimizer.zero_grad()\n",
        "      out = model(data.x.double(), data.edge_index)\n",
        "      loss = criterion(out[train_mask], data.y[train_mask])\n",
        "      loss.backward()\n",
        "      optimizer.step()\n",
        "      return loss\n",
        "\n",
        "def test():\n",
        "      model.eval()\n",
        "      out = model(data.x.double(), data.edge_index)\n",
        "      test_error = (out[test_mask] - data.y[test_mask])**2\n",
        "      test_err = int(test_error.sum()) / int(test_mask.sum())\n",
        "      return test_err"
      ],
      "metadata": {
        "id": "ifmXZTPCQO5f"
      },
      "execution_count": 30,
      "outputs": []
    },
    {
      "cell_type": "markdown",
      "source": [
        "Train and test the model"
      ],
      "metadata": {
        "id": "Jn181Ejw-l5L"
      }
    },
    {
      "cell_type": "code",
      "source": [
        "for epoch in range(1, 50):\n",
        "    loss = train()\n",
        "    print(f'Epoch: {epoch:03d}, Loss: {loss:.4f}')\n",
        "\n",
        "test_err = test()\n",
        "print(f'Test Loss: {test_err:.4f}')"
      ],
      "metadata": {
        "colab": {
          "base_uri": "https://localhost:8080/"
        },
        "id": "gMF7mAf7TuVx",
        "outputId": "1087633d-0757-4459-8822-669e9a0807dc"
      },
      "execution_count": 31,
      "outputs": [
        {
          "output_type": "stream",
          "name": "stdout",
          "text": [
            "Epoch: 001, Loss: 3998.0954\n",
            "Epoch: 002, Loss: 5355616.2537\n",
            "Epoch: 003, Loss: 1215847.3969\n",
            "Epoch: 004, Loss: 16395356.1879\n",
            "Epoch: 005, Loss: 1245662.5652\n",
            "Epoch: 006, Loss: 1027698.8634\n",
            "Epoch: 007, Loss: 88663.3594\n",
            "Epoch: 008, Loss: 175363.0576\n",
            "Epoch: 009, Loss: 20013.6418\n",
            "Epoch: 010, Loss: 133599.8775\n",
            "Epoch: 011, Loss: 7320.2892\n",
            "Epoch: 012, Loss: 38568.5132\n",
            "Epoch: 013, Loss: 30885.4892\n",
            "Epoch: 014, Loss: 5221.9606\n",
            "Epoch: 015, Loss: 4226.2148\n",
            "Epoch: 016, Loss: 4300.2465\n",
            "Epoch: 017, Loss: 4028.0598\n",
            "Epoch: 018, Loss: 3955.3699\n",
            "Epoch: 019, Loss: 3631.9630\n",
            "Epoch: 020, Loss: 65054.6832\n",
            "Epoch: 021, Loss: 2472.6717\n",
            "Epoch: 022, Loss: 3952.7877\n",
            "Epoch: 023, Loss: 3952.7767\n",
            "Epoch: 024, Loss: 3952.7582\n",
            "Epoch: 025, Loss: 3952.7330\n",
            "Epoch: 026, Loss: 3952.7013\n",
            "Epoch: 027, Loss: 3952.6637\n",
            "Epoch: 028, Loss: 3952.6207\n",
            "Epoch: 029, Loss: 3952.5725\n",
            "Epoch: 030, Loss: 3952.5196\n",
            "Epoch: 031, Loss: 3952.4623\n",
            "Epoch: 032, Loss: 3952.4008\n",
            "Epoch: 033, Loss: 3952.3354\n",
            "Epoch: 034, Loss: 3952.2663\n",
            "Epoch: 035, Loss: 3952.1938\n",
            "Epoch: 036, Loss: 3952.1180\n",
            "Epoch: 037, Loss: 3952.0392\n",
            "Epoch: 038, Loss: 3951.9575\n",
            "Epoch: 039, Loss: 3951.8731\n",
            "Epoch: 040, Loss: 3951.7861\n",
            "Epoch: 041, Loss: 3951.6966\n",
            "Epoch: 042, Loss: 3951.6048\n",
            "Epoch: 043, Loss: 3951.5107\n",
            "Epoch: 044, Loss: 3951.4145\n",
            "Epoch: 045, Loss: 3951.3163\n",
            "Epoch: 046, Loss: 3951.2161\n",
            "Epoch: 047, Loss: 3951.1141\n",
            "Epoch: 048, Loss: 3951.0103\n",
            "Epoch: 049, Loss: 3950.9047\n",
            "Test Loss: 4004.6989\n"
          ]
        }
      ]
    }
  ]
}