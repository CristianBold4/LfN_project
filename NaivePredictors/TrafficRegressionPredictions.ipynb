{
  "nbformat": 4,
  "nbformat_minor": 0,
  "metadata": {
    "colab": {
      "provenance": []
    },
    "kernelspec": {
      "name": "python3",
      "display_name": "Python 3"
    },
    "language_info": {
      "name": "python"
    }
  },
  "cells": [
    {
      "cell_type": "markdown",
      "source": [
        "# Traffic Forecasting Analysis\n",
        "\n",
        "Traffic predictions using different models."
      ],
      "metadata": {
        "id": "HhsafASf4X7Y"
      }
    },
    {
      "cell_type": "markdown",
      "source": [
        "Import required package and connect to Google Drive"
      ],
      "metadata": {
        "id": "21qRtqji8WnR"
      }
    },
    {
      "cell_type": "code",
      "execution_count": null,
      "metadata": {
        "colab": {
          "base_uri": "https://localhost:8080/"
        },
        "id": "xk6dr7hk4TNW",
        "outputId": "6a52d9fc-3f5d-45c5-ee26-49f674d4fa88"
      },
      "outputs": [
        {
          "output_type": "stream",
          "name": "stdout",
          "text": [
            "Drive already mounted at /content/drive; to attempt to forcibly remount, call drive.mount(\"/content/drive\", force_remount=True).\n"
          ]
        }
      ],
      "source": [
        "import numpy as np\n",
        "import pandas as pd\n",
        "from matplotlib import pyplot as plt\n",
        "from google.colab import drive\n",
        "drive.mount('/content/drive')"
      ]
    },
    {
      "cell_type": "markdown",
      "source": [
        "Get dataset files"
      ],
      "metadata": {
        "id": "FDcHgeUS8p2W"
      }
    },
    {
      "cell_type": "code",
      "source": [
        "#METR-LA dataset without saturdays and sundays\n",
        "!cp /content/drive/MyDrive/modified-METRLA.csv /content/dataset.csv\n",
        "\n",
        "#Pems-bay dataset\n",
        "#!cp /content/drive/MyDrive/pems-bay.csv /content/dataset.csv\n",
        "\n",
        "#Pemsd7-m dataset\n",
        "#!cp /content/drive/MyDrive/pemsd7-m.csv /content/dataset.csv"
      ],
      "metadata": {
        "id": "XBaGrs1X8vgh"
      },
      "execution_count": null,
      "outputs": []
    },
    {
      "cell_type": "markdown",
      "source": [
        "Create DataFrame and visualize its structure"
      ],
      "metadata": {
        "id": "iJcV_2et9lNj"
      }
    },
    {
      "cell_type": "code",
      "source": [
        "#dataset path\n",
        "path = '/content/dataset.csv'\n",
        "\n",
        "df = pd.read_csv(path, index_col=None)"
      ],
      "metadata": {
        "id": "DlFAcPLE9sAJ"
      },
      "execution_count": null,
      "outputs": []
    },
    {
      "cell_type": "code",
      "source": [
        "#remove entries with null values\n",
        "df = df.dropna(axis=0)\n",
        "\n",
        "shape = df.shape\n",
        "size = df.size\n",
        "\n",
        "print(f'Dataframe shape: {shape}')\n",
        "print(f'Number of elements: {size}')\n",
        "df.head()"
      ],
      "metadata": {
        "colab": {
          "base_uri": "https://localhost:8080/",
          "height": 271
        },
        "id": "kyZVR_LB-Pwh",
        "outputId": "d742397a-86d6-437f-ce18-ad8b03acc145"
      },
      "execution_count": null,
      "outputs": [
        {
          "output_type": "stream",
          "name": "stdout",
          "text": [
            "Dataframe shape: (24480, 208)\n",
            "Number of elements: 5091840\n"
          ]
        },
        {
          "output_type": "execute_result",
          "data": {
            "text/plain": [
              "            Unnamed: 0     773869     767541     767542     717447     717446  \\\n",
              "0  2012-03-01 00:00:00  64.375000  67.625000  67.125000  61.500000  66.875000   \n",
              "1  2012-03-01 00:05:00  62.666667  68.555556  65.444444  62.444444  64.444444   \n",
              "2  2012-03-01 00:10:00  64.000000  63.750000  60.000000  59.000000  66.500000   \n",
              "3  2012-03-01 00:15:00   0.000000   0.000000   0.000000   0.000000   0.000000   \n",
              "4  2012-03-01 00:20:00   0.000000   0.000000   0.000000   0.000000   0.000000   \n",
              "\n",
              "      717445  773062  767620     737529  ...     772167  769372     774204  \\\n",
              "0  68.750000  65.125  67.125  59.625000  ...  45.625000  65.500  64.500000   \n",
              "1  68.111111  65.000  65.000  57.444444  ...  50.666667  69.875  66.666667   \n",
              "2  66.250000  64.500  64.250  63.875000  ...  44.125000  69.000  56.500000   \n",
              "3   0.000000   0.000   0.000   0.000000  ...   0.000000   0.000   0.000000   \n",
              "4   0.000000   0.000   0.000   0.000000  ...   0.000000   0.000   0.000000   \n",
              "\n",
              "      769806  717590     717592     717595     772168     718141  769373  \n",
              "0  66.428571  66.875  59.375000  69.000000  59.250000  69.000000  61.875  \n",
              "1  58.555556  62.000  61.111111  64.444444  55.888889  68.444444  62.875  \n",
              "2  59.250000  68.125  62.500000  65.625000  61.375000  69.857143  62.000  \n",
              "3   0.000000   0.000   0.000000   0.000000   0.000000   0.000000   0.000  \n",
              "4   0.000000   0.000   0.000000   0.000000   0.000000   0.000000   0.000  \n",
              "\n",
              "[5 rows x 208 columns]"
            ],
            "text/html": [
              "\n",
              "  <div id=\"df-f38f558d-fe1b-44d7-ac5c-8918a2e8f39a\">\n",
              "    <div class=\"colab-df-container\">\n",
              "      <div>\n",
              "<style scoped>\n",
              "    .dataframe tbody tr th:only-of-type {\n",
              "        vertical-align: middle;\n",
              "    }\n",
              "\n",
              "    .dataframe tbody tr th {\n",
              "        vertical-align: top;\n",
              "    }\n",
              "\n",
              "    .dataframe thead th {\n",
              "        text-align: right;\n",
              "    }\n",
              "</style>\n",
              "<table border=\"1\" class=\"dataframe\">\n",
              "  <thead>\n",
              "    <tr style=\"text-align: right;\">\n",
              "      <th></th>\n",
              "      <th>Unnamed: 0</th>\n",
              "      <th>773869</th>\n",
              "      <th>767541</th>\n",
              "      <th>767542</th>\n",
              "      <th>717447</th>\n",
              "      <th>717446</th>\n",
              "      <th>717445</th>\n",
              "      <th>773062</th>\n",
              "      <th>767620</th>\n",
              "      <th>737529</th>\n",
              "      <th>...</th>\n",
              "      <th>772167</th>\n",
              "      <th>769372</th>\n",
              "      <th>774204</th>\n",
              "      <th>769806</th>\n",
              "      <th>717590</th>\n",
              "      <th>717592</th>\n",
              "      <th>717595</th>\n",
              "      <th>772168</th>\n",
              "      <th>718141</th>\n",
              "      <th>769373</th>\n",
              "    </tr>\n",
              "  </thead>\n",
              "  <tbody>\n",
              "    <tr>\n",
              "      <th>0</th>\n",
              "      <td>2012-03-01 00:00:00</td>\n",
              "      <td>64.375000</td>\n",
              "      <td>67.625000</td>\n",
              "      <td>67.125000</td>\n",
              "      <td>61.500000</td>\n",
              "      <td>66.875000</td>\n",
              "      <td>68.750000</td>\n",
              "      <td>65.125</td>\n",
              "      <td>67.125</td>\n",
              "      <td>59.625000</td>\n",
              "      <td>...</td>\n",
              "      <td>45.625000</td>\n",
              "      <td>65.500</td>\n",
              "      <td>64.500000</td>\n",
              "      <td>66.428571</td>\n",
              "      <td>66.875</td>\n",
              "      <td>59.375000</td>\n",
              "      <td>69.000000</td>\n",
              "      <td>59.250000</td>\n",
              "      <td>69.000000</td>\n",
              "      <td>61.875</td>\n",
              "    </tr>\n",
              "    <tr>\n",
              "      <th>1</th>\n",
              "      <td>2012-03-01 00:05:00</td>\n",
              "      <td>62.666667</td>\n",
              "      <td>68.555556</td>\n",
              "      <td>65.444444</td>\n",
              "      <td>62.444444</td>\n",
              "      <td>64.444444</td>\n",
              "      <td>68.111111</td>\n",
              "      <td>65.000</td>\n",
              "      <td>65.000</td>\n",
              "      <td>57.444444</td>\n",
              "      <td>...</td>\n",
              "      <td>50.666667</td>\n",
              "      <td>69.875</td>\n",
              "      <td>66.666667</td>\n",
              "      <td>58.555556</td>\n",
              "      <td>62.000</td>\n",
              "      <td>61.111111</td>\n",
              "      <td>64.444444</td>\n",
              "      <td>55.888889</td>\n",
              "      <td>68.444444</td>\n",
              "      <td>62.875</td>\n",
              "    </tr>\n",
              "    <tr>\n",
              "      <th>2</th>\n",
              "      <td>2012-03-01 00:10:00</td>\n",
              "      <td>64.000000</td>\n",
              "      <td>63.750000</td>\n",
              "      <td>60.000000</td>\n",
              "      <td>59.000000</td>\n",
              "      <td>66.500000</td>\n",
              "      <td>66.250000</td>\n",
              "      <td>64.500</td>\n",
              "      <td>64.250</td>\n",
              "      <td>63.875000</td>\n",
              "      <td>...</td>\n",
              "      <td>44.125000</td>\n",
              "      <td>69.000</td>\n",
              "      <td>56.500000</td>\n",
              "      <td>59.250000</td>\n",
              "      <td>68.125</td>\n",
              "      <td>62.500000</td>\n",
              "      <td>65.625000</td>\n",
              "      <td>61.375000</td>\n",
              "      <td>69.857143</td>\n",
              "      <td>62.000</td>\n",
              "    </tr>\n",
              "    <tr>\n",
              "      <th>3</th>\n",
              "      <td>2012-03-01 00:15:00</td>\n",
              "      <td>0.000000</td>\n",
              "      <td>0.000000</td>\n",
              "      <td>0.000000</td>\n",
              "      <td>0.000000</td>\n",
              "      <td>0.000000</td>\n",
              "      <td>0.000000</td>\n",
              "      <td>0.000</td>\n",
              "      <td>0.000</td>\n",
              "      <td>0.000000</td>\n",
              "      <td>...</td>\n",
              "      <td>0.000000</td>\n",
              "      <td>0.000</td>\n",
              "      <td>0.000000</td>\n",
              "      <td>0.000000</td>\n",
              "      <td>0.000</td>\n",
              "      <td>0.000000</td>\n",
              "      <td>0.000000</td>\n",
              "      <td>0.000000</td>\n",
              "      <td>0.000000</td>\n",
              "      <td>0.000</td>\n",
              "    </tr>\n",
              "    <tr>\n",
              "      <th>4</th>\n",
              "      <td>2012-03-01 00:20:00</td>\n",
              "      <td>0.000000</td>\n",
              "      <td>0.000000</td>\n",
              "      <td>0.000000</td>\n",
              "      <td>0.000000</td>\n",
              "      <td>0.000000</td>\n",
              "      <td>0.000000</td>\n",
              "      <td>0.000</td>\n",
              "      <td>0.000</td>\n",
              "      <td>0.000000</td>\n",
              "      <td>...</td>\n",
              "      <td>0.000000</td>\n",
              "      <td>0.000</td>\n",
              "      <td>0.000000</td>\n",
              "      <td>0.000000</td>\n",
              "      <td>0.000</td>\n",
              "      <td>0.000000</td>\n",
              "      <td>0.000000</td>\n",
              "      <td>0.000000</td>\n",
              "      <td>0.000000</td>\n",
              "      <td>0.000</td>\n",
              "    </tr>\n",
              "  </tbody>\n",
              "</table>\n",
              "<p>5 rows × 208 columns</p>\n",
              "</div>\n",
              "      <button class=\"colab-df-convert\" onclick=\"convertToInteractive('df-f38f558d-fe1b-44d7-ac5c-8918a2e8f39a')\"\n",
              "              title=\"Convert this dataframe to an interactive table.\"\n",
              "              style=\"display:none;\">\n",
              "        \n",
              "  <svg xmlns=\"http://www.w3.org/2000/svg\" height=\"24px\"viewBox=\"0 0 24 24\"\n",
              "       width=\"24px\">\n",
              "    <path d=\"M0 0h24v24H0V0z\" fill=\"none\"/>\n",
              "    <path d=\"M18.56 5.44l.94 2.06.94-2.06 2.06-.94-2.06-.94-.94-2.06-.94 2.06-2.06.94zm-11 1L8.5 8.5l.94-2.06 2.06-.94-2.06-.94L8.5 2.5l-.94 2.06-2.06.94zm10 10l.94 2.06.94-2.06 2.06-.94-2.06-.94-.94-2.06-.94 2.06-2.06.94z\"/><path d=\"M17.41 7.96l-1.37-1.37c-.4-.4-.92-.59-1.43-.59-.52 0-1.04.2-1.43.59L10.3 9.45l-7.72 7.72c-.78.78-.78 2.05 0 2.83L4 21.41c.39.39.9.59 1.41.59.51 0 1.02-.2 1.41-.59l7.78-7.78 2.81-2.81c.8-.78.8-2.07 0-2.86zM5.41 20L4 18.59l7.72-7.72 1.47 1.35L5.41 20z\"/>\n",
              "  </svg>\n",
              "      </button>\n",
              "      \n",
              "  <style>\n",
              "    .colab-df-container {\n",
              "      display:flex;\n",
              "      flex-wrap:wrap;\n",
              "      gap: 12px;\n",
              "    }\n",
              "\n",
              "    .colab-df-convert {\n",
              "      background-color: #E8F0FE;\n",
              "      border: none;\n",
              "      border-radius: 50%;\n",
              "      cursor: pointer;\n",
              "      display: none;\n",
              "      fill: #1967D2;\n",
              "      height: 32px;\n",
              "      padding: 0 0 0 0;\n",
              "      width: 32px;\n",
              "    }\n",
              "\n",
              "    .colab-df-convert:hover {\n",
              "      background-color: #E2EBFA;\n",
              "      box-shadow: 0px 1px 2px rgba(60, 64, 67, 0.3), 0px 1px 3px 1px rgba(60, 64, 67, 0.15);\n",
              "      fill: #174EA6;\n",
              "    }\n",
              "\n",
              "    [theme=dark] .colab-df-convert {\n",
              "      background-color: #3B4455;\n",
              "      fill: #D2E3FC;\n",
              "    }\n",
              "\n",
              "    [theme=dark] .colab-df-convert:hover {\n",
              "      background-color: #434B5C;\n",
              "      box-shadow: 0px 1px 3px 1px rgba(0, 0, 0, 0.15);\n",
              "      filter: drop-shadow(0px 1px 2px rgba(0, 0, 0, 0.3));\n",
              "      fill: #FFFFFF;\n",
              "    }\n",
              "  </style>\n",
              "\n",
              "      <script>\n",
              "        const buttonEl =\n",
              "          document.querySelector('#df-f38f558d-fe1b-44d7-ac5c-8918a2e8f39a button.colab-df-convert');\n",
              "        buttonEl.style.display =\n",
              "          google.colab.kernel.accessAllowed ? 'block' : 'none';\n",
              "\n",
              "        async function convertToInteractive(key) {\n",
              "          const element = document.querySelector('#df-f38f558d-fe1b-44d7-ac5c-8918a2e8f39a');\n",
              "          const dataTable =\n",
              "            await google.colab.kernel.invokeFunction('convertToInteractive',\n",
              "                                                     [key], {});\n",
              "          if (!dataTable) return;\n",
              "\n",
              "          const docLinkHtml = 'Like what you see? Visit the ' +\n",
              "            '<a target=\"_blank\" href=https://colab.research.google.com/notebooks/data_table.ipynb>data table notebook</a>'\n",
              "            + ' to learn more about interactive tables.';\n",
              "          element.innerHTML = '';\n",
              "          dataTable['output_type'] = 'display_data';\n",
              "          await google.colab.output.renderOutput(dataTable, element);\n",
              "          const docLink = document.createElement('div');\n",
              "          docLink.innerHTML = docLinkHtml;\n",
              "          element.appendChild(docLink);\n",
              "        }\n",
              "      </script>\n",
              "    </div>\n",
              "  </div>\n",
              "  "
            ]
          },
          "metadata": {},
          "execution_count": 4
        }
      ]
    },
    {
      "cell_type": "code",
      "source": [
        "#convert to numpy array\n",
        "dataset = df.values"
      ],
      "metadata": {
        "id": "l6w1ZyyF_vRc"
      },
      "execution_count": null,
      "outputs": []
    },
    {
      "cell_type": "markdown",
      "source": [
        "Visualize values from a sensor in the first day"
      ],
      "metadata": {
        "id": "DQiEgOalAU4e"
      }
    },
    {
      "cell_type": "code",
      "source": [
        "#number of values in a day\n",
        "day_size = 288\n",
        "\n",
        "#select sensor\n",
        "sensorID = 1\n",
        "\n",
        "#extract values from sensor\n",
        "sensor = dataset[:, sensorID]\n",
        "\n",
        "plt.plot(np.arange(day_size), sensor[:day_size])\n",
        "plt.show()"
      ],
      "metadata": {
        "colab": {
          "base_uri": "https://localhost:8080/",
          "height": 265
        },
        "id": "xp3wwaNlAefX",
        "outputId": "0cdae200-811e-4399-8a0e-cf565888093b"
      },
      "execution_count": null,
      "outputs": [
        {
          "output_type": "display_data",
          "data": {
            "text/plain": [
              "<Figure size 432x288 with 1 Axes>"
            ],
            "image/png": "[encoded data removed]"
          },
          "metadata": {
            "needs_background": "light"
          }
        }
      ]
    },
    {
      "cell_type": "markdown",
      "source": [
        "## Models"
      ],
      "metadata": {
        "id": "_e3nuBW0FYMS"
      }
    },
    {
      "cell_type": "markdown",
      "source": [
        "### Regression for all data\n",
        "\n",
        "Predict all the velocity values in future days"
      ],
      "metadata": {
        "id": "AMBRE8dLFaW_"
      }
    },
    {
      "cell_type": "code",
      "source": [
        "from sklearn.neural_network import MLPRegressor\n",
        "from sklearn.svm import SVR\n",
        "from sklearn.model_selection import train_test_split\n",
        "from sklearn.preprocessing import StandardScaler"
      ],
      "metadata": {
        "id": "lSRPQ3XiFcTP"
      },
      "execution_count": null,
      "outputs": []
    },
    {
      "cell_type": "code",
      "source": [
        "#X set contains number of day, type of weekday and time\n",
        "X = np.ndarray(shape=(dataset.shape[0], 3))\n",
        "\n",
        "#variable that indicates the day (0=monday,..., 4=friday)\n",
        "day_index = -1\n",
        "for i in range(dataset.shape[0]):\n",
        "  if i%288 == 0:\n",
        "    day_index = (day_index + 1) % 5\n",
        "  X[i,:] = np.array([i, day_index, i%day_size])\n",
        "\n",
        "Y = dataset[:, 1:]\n",
        "\n",
        "#scale data\n",
        "scaler = StandardScaler()\n",
        "scaler.fit(X)\n",
        "\n",
        "X_scale = scaler.transform(X)\n",
        "\n",
        "#divide in train and set\n",
        "X_train, X_test, Y_train, Y_test = train_test_split(X_scale, Y, random_state=1)"
      ],
      "metadata": {
        "id": "aSIo0Dk3Fs5h"
      },
      "execution_count": null,
      "outputs": []
    },
    {
      "cell_type": "code",
      "source": [
        "regr = MLPRegressor(random_state=1, max_iter=500, hidden_layer_sizes=(3, 100, 200, 400, 208), solver='adam', n_iter_no_change=50, verbose=True)\n",
        "regr.fit(X_train, Y_train)"
      ],
      "metadata": {
        "colab": {
          "base_uri": "https://localhost:8080/"
        },
        "id": "HJGk26idK9N6",
        "outputId": "60b6e812-e418-4496-a63e-ae33441e32e2"
      },
      "execution_count": null,
      "outputs": [
        {
          "output_type": "stream",
          "name": "stdout",
          "text": [
            "Iteration 1, loss = 1541.69863942\n",
            "Iteration 2, loss = 1477.55426630\n",
            "Iteration 3, loss = 1153.42186424\n",
            "Iteration 4, loss = 561.88848218\n",
            "Iteration 5, loss = 409.20301862\n",
            "Iteration 6, loss = 303.23724733\n",
            "Iteration 7, loss = 249.48180480\n",
            "Iteration 8, loss = 220.26895328\n",
            "Iteration 9, loss = 205.19979094\n",
            "Iteration 10, loss = 198.07005085\n",
            "Iteration 11, loss = 195.48586264\n",
            "Iteration 12, loss = 194.13541838\n",
            "Iteration 13, loss = 192.80099397\n",
            "Iteration 14, loss = 191.78932599\n",
            "Iteration 15, loss = 190.98804001\n",
            "Iteration 16, loss = 190.18808624\n",
            "Iteration 17, loss = 189.76803562\n",
            "Iteration 18, loss = 189.03298345\n",
            "Iteration 19, loss = 188.56099296\n",
            "Iteration 20, loss = 187.75316541\n",
            "Iteration 21, loss = 187.21082676\n",
            "Iteration 22, loss = 186.57857682\n",
            "Iteration 23, loss = 185.60066042\n",
            "Iteration 24, loss = 184.93267559\n",
            "Iteration 25, loss = 183.97030292\n",
            "Iteration 26, loss = 183.04289148\n",
            "Iteration 27, loss = 182.19044520\n",
            "Iteration 28, loss = 181.52152580\n",
            "Iteration 29, loss = 180.09292487\n",
            "Iteration 30, loss = 178.92801312\n",
            "Iteration 31, loss = 177.74650202\n",
            "Iteration 32, loss = 177.16308564\n",
            "Iteration 33, loss = 176.29627155\n",
            "Iteration 34, loss = 174.51758258\n",
            "Iteration 35, loss = 172.53182957\n",
            "Iteration 36, loss = 171.23373002\n",
            "Iteration 37, loss = 169.80456923\n",
            "Iteration 38, loss = 168.44771569\n",
            "Iteration 39, loss = 167.12521875\n",
            "Iteration 40, loss = 165.66344383\n",
            "Iteration 41, loss = 163.87945462\n",
            "Iteration 42, loss = 162.77559312\n",
            "Iteration 43, loss = 160.65116639\n",
            "Iteration 44, loss = 157.72296282\n",
            "Iteration 45, loss = 156.34663908\n",
            "Iteration 46, loss = 154.74638155\n",
            "Iteration 47, loss = 152.81404435\n",
            "Iteration 48, loss = 150.49098878\n",
            "Iteration 49, loss = 148.78633971\n",
            "Iteration 50, loss = 147.05224749\n",
            "Iteration 51, loss = 145.62351512\n",
            "Iteration 52, loss = 144.26809407\n",
            "Iteration 53, loss = 142.64060419\n",
            "Iteration 54, loss = 141.84617201\n",
            "Iteration 55, loss = 141.21678559\n",
            "Iteration 56, loss = 140.78397833\n",
            "Iteration 57, loss = 138.88385519\n",
            "Iteration 58, loss = 138.13975428\n",
            "Iteration 59, loss = 137.36531739\n",
            "Iteration 60, loss = 136.63983268\n",
            "Iteration 61, loss = 136.53191782\n",
            "Iteration 62, loss = 136.01761203\n",
            "Iteration 63, loss = 135.69624819\n",
            "Iteration 64, loss = 135.61723709\n",
            "Iteration 65, loss = 135.80275488\n",
            "Iteration 66, loss = 134.87723208\n",
            "Iteration 67, loss = 133.90912018\n",
            "Iteration 68, loss = 134.48677801\n",
            "Iteration 69, loss = 133.60186259\n",
            "Iteration 70, loss = 133.24704168\n",
            "Iteration 71, loss = 133.54438186\n",
            "Iteration 72, loss = 133.25756039\n",
            "Iteration 73, loss = 132.62275542\n",
            "Iteration 74, loss = 132.23286762\n",
            "Iteration 75, loss = 132.04556662\n",
            "Iteration 76, loss = 132.52807991\n",
            "Iteration 77, loss = 132.25702270\n",
            "Iteration 78, loss = 131.45939197\n",
            "Iteration 79, loss = 131.96924276\n",
            "Iteration 80, loss = 130.75069058\n",
            "Iteration 81, loss = 130.49074738\n",
            "Iteration 82, loss = 130.71375571\n",
            "Iteration 83, loss = 131.47747217\n",
            "Iteration 84, loss = 130.72363494\n",
            "Iteration 85, loss = 131.08101596\n",
            "Iteration 86, loss = 129.84784964\n",
            "Iteration 87, loss = 129.68728281\n",
            "Iteration 88, loss = 129.42772114\n",
            "Iteration 89, loss = 129.09260001\n",
            "Iteration 90, loss = 128.66018299\n",
            "Iteration 91, loss = 128.30283431\n",
            "Iteration 92, loss = 128.24555184\n",
            "Iteration 93, loss = 128.38672207\n",
            "Iteration 94, loss = 128.63237397\n",
            "Iteration 95, loss = 128.47436758\n",
            "Iteration 96, loss = 127.77364283\n",
            "Iteration 97, loss = 127.48492426\n",
            "Iteration 98, loss = 127.39343849\n",
            "Iteration 99, loss = 127.48646012\n",
            "Iteration 100, loss = 127.42205337\n",
            "Iteration 101, loss = 127.28276191\n",
            "Iteration 102, loss = 127.49740074\n",
            "Iteration 103, loss = 127.05807320\n",
            "Iteration 104, loss = 127.25061934\n",
            "Iteration 105, loss = 126.95872226\n",
            "Iteration 106, loss = 127.10660630\n",
            "Iteration 107, loss = 126.82899783\n",
            "Iteration 108, loss = 126.83565489\n",
            "Iteration 109, loss = 126.60403743\n",
            "Iteration 110, loss = 126.94128224\n",
            "Iteration 111, loss = 127.32294718\n",
            "Iteration 112, loss = 127.25109256\n",
            "Iteration 113, loss = 127.29163086\n",
            "Iteration 114, loss = 127.45753962\n",
            "Iteration 115, loss = 127.51066858\n",
            "Iteration 116, loss = 129.67665056\n",
            "Iteration 117, loss = 126.28991591\n",
            "Iteration 118, loss = 126.91449440\n",
            "Iteration 119, loss = 126.96776075\n",
            "Iteration 120, loss = 126.12277394\n",
            "Iteration 121, loss = 126.84107693\n",
            "Iteration 122, loss = 126.74789625\n",
            "Iteration 123, loss = 127.51224245\n",
            "Iteration 124, loss = 127.71819566\n",
            "Iteration 125, loss = 127.91150694\n",
            "Iteration 126, loss = 126.03415068\n",
            "Iteration 127, loss = 125.71453860\n",
            "Iteration 128, loss = 125.38080983\n",
            "Iteration 129, loss = 125.60667058\n",
            "Iteration 130, loss = 125.58145912\n",
            "Iteration 131, loss = 125.01623126\n",
            "Iteration 132, loss = 125.11864426\n",
            "Iteration 133, loss = 125.31257219\n",
            "Iteration 134, loss = 124.74565517\n",
            "Iteration 135, loss = 124.48675939\n",
            "Iteration 136, loss = 124.50903843\n",
            "Iteration 137, loss = 124.37486778\n",
            "Iteration 138, loss = 123.99567067\n",
            "Iteration 139, loss = 124.51563623\n",
            "Iteration 140, loss = 124.05906136\n",
            "Iteration 141, loss = 123.81060691\n",
            "Iteration 142, loss = 124.31196488\n",
            "Iteration 143, loss = 124.40006113\n",
            "Iteration 144, loss = 123.26076930\n",
            "Iteration 145, loss = 123.07616905\n",
            "Iteration 146, loss = 123.14018483\n",
            "Iteration 147, loss = 122.98917906\n",
            "Iteration 148, loss = 124.18107748\n",
            "Iteration 149, loss = 123.57400595\n",
            "Iteration 150, loss = 123.12134573\n",
            "Iteration 151, loss = 122.28116000\n",
            "Iteration 152, loss = 121.57825652\n",
            "Iteration 153, loss = 122.26831932\n",
            "Iteration 154, loss = 121.53172580\n",
            "Iteration 155, loss = 120.77944796\n",
            "Iteration 156, loss = 120.63428249\n",
            "Iteration 157, loss = 120.29239051\n",
            "Iteration 158, loss = 120.22580520\n",
            "Iteration 159, loss = 119.74738545\n",
            "Iteration 160, loss = 119.65119853\n",
            "Iteration 161, loss = 119.35649692\n",
            "Iteration 162, loss = 119.45332821\n",
            "Iteration 163, loss = 119.54378990\n",
            "Iteration 164, loss = 119.01489340\n",
            "Iteration 165, loss = 118.66414804\n",
            "Iteration 166, loss = 118.73500125\n",
            "Iteration 167, loss = 119.50682706\n",
            "Iteration 168, loss = 119.85677915\n",
            "Iteration 169, loss = 118.32755343\n",
            "Iteration 170, loss = 117.76843941\n",
            "Iteration 171, loss = 118.04365884\n",
            "Iteration 172, loss = 117.17262058\n",
            "Iteration 173, loss = 117.82698507\n",
            "Iteration 174, loss = 120.09781916\n",
            "Iteration 175, loss = 119.78717840\n",
            "Iteration 176, loss = 116.89893951\n",
            "Iteration 177, loss = 116.40192733\n",
            "Iteration 178, loss = 116.05562513\n",
            "Iteration 179, loss = 115.65356650\n",
            "Iteration 180, loss = 115.64366203\n",
            "Iteration 181, loss = 115.64429385\n",
            "Iteration 182, loss = 115.43133982\n",
            "Iteration 183, loss = 115.16656264\n",
            "Iteration 184, loss = 115.54162775\n",
            "Iteration 185, loss = 114.73896569\n",
            "Iteration 186, loss = 114.39488661\n",
            "Iteration 187, loss = 114.23438129\n",
            "Iteration 188, loss = 113.93474396\n",
            "Iteration 189, loss = 114.08629566\n",
            "Iteration 190, loss = 113.08476280\n",
            "Iteration 191, loss = 113.18049175\n",
            "Iteration 192, loss = 112.69587857\n",
            "Iteration 193, loss = 113.08981286\n",
            "Iteration 194, loss = 112.62523905\n",
            "Iteration 195, loss = 112.99500772\n",
            "Iteration 196, loss = 113.15076365\n",
            "Iteration 197, loss = 112.99881821\n",
            "Iteration 198, loss = 111.50031402\n",
            "Iteration 199, loss = 111.34283367\n",
            "Iteration 200, loss = 112.18980189\n",
            "Iteration 201, loss = 113.52935012\n",
            "Iteration 202, loss = 111.75307292\n",
            "Iteration 203, loss = 111.18979446\n",
            "Iteration 204, loss = 111.78164713\n",
            "Iteration 205, loss = 110.65191886\n",
            "Iteration 206, loss = 110.14385853\n",
            "Iteration 207, loss = 109.64869732\n",
            "Iteration 208, loss = 109.16681756\n",
            "Iteration 209, loss = 109.05872843\n",
            "Iteration 210, loss = 108.56172165\n",
            "Iteration 211, loss = 108.43580727\n",
            "Iteration 212, loss = 108.00466070\n",
            "Iteration 213, loss = 107.54220078\n",
            "Iteration 214, loss = 107.12035382\n",
            "Iteration 215, loss = 107.07727578\n",
            "Iteration 216, loss = 106.62234201\n",
            "Iteration 217, loss = 106.51441037\n",
            "Iteration 218, loss = 106.41324513\n",
            "Iteration 219, loss = 105.67504311\n",
            "Iteration 220, loss = 106.30579622\n",
            "Iteration 221, loss = 107.69250522\n",
            "Iteration 222, loss = 106.66280620\n",
            "Iteration 223, loss = 105.43662196\n",
            "Iteration 224, loss = 104.96539561\n",
            "Iteration 225, loss = 104.52710825\n",
            "Iteration 226, loss = 106.06539654\n",
            "Iteration 227, loss = 105.66356275\n",
            "Iteration 228, loss = 103.85555640\n",
            "Iteration 229, loss = 104.29254066\n",
            "Iteration 230, loss = 103.36906318\n",
            "Iteration 231, loss = 103.79881952\n",
            "Iteration 232, loss = 102.95670613\n",
            "Iteration 233, loss = 102.22846020\n",
            "Iteration 234, loss = 102.31922601\n",
            "Iteration 235, loss = 102.11445477\n",
            "Iteration 236, loss = 102.66986841\n",
            "Iteration 237, loss = 101.85895560\n",
            "Iteration 238, loss = 101.63907014\n",
            "Iteration 239, loss = 101.71884808\n",
            "Iteration 240, loss = 101.06611820\n",
            "Iteration 241, loss = 101.19531071\n",
            "Iteration 242, loss = 101.13712727\n",
            "Iteration 243, loss = 100.62337829\n",
            "Iteration 244, loss = 100.50693366\n",
            "Iteration 245, loss = 99.84482915\n",
            "Iteration 246, loss = 99.54056914\n",
            "Iteration 247, loss = 99.41137872\n",
            "Iteration 248, loss = 99.11666134\n",
            "Iteration 249, loss = 99.13819244\n",
            "Iteration 250, loss = 99.38369636\n",
            "Iteration 251, loss = 99.29182307\n",
            "Iteration 252, loss = 98.89952475\n",
            "Iteration 253, loss = 97.94915990\n",
            "Iteration 254, loss = 98.01137259\n",
            "Iteration 255, loss = 98.36314810\n",
            "Iteration 256, loss = 97.98806148\n",
            "Iteration 257, loss = 97.96312867\n",
            "Iteration 258, loss = 98.05385833\n",
            "Iteration 259, loss = 97.83914769\n",
            "Iteration 260, loss = 96.80384215\n",
            "Iteration 261, loss = 97.01895772\n",
            "Iteration 262, loss = 97.03746462\n",
            "Iteration 263, loss = 97.15037301\n",
            "Iteration 264, loss = 96.40340548\n",
            "Iteration 265, loss = 97.48259140\n",
            "Iteration 266, loss = 96.73855677\n",
            "Iteration 267, loss = 95.66303855\n",
            "Iteration 268, loss = 96.04075158\n",
            "Iteration 269, loss = 96.12694000\n",
            "Iteration 270, loss = 95.97333807\n",
            "Iteration 271, loss = 95.88257632\n",
            "Iteration 272, loss = 95.39689061\n",
            "Iteration 273, loss = 94.50048331\n",
            "Iteration 274, loss = 94.06888725\n",
            "Iteration 275, loss = 94.39354550\n",
            "Iteration 276, loss = 95.17712881\n",
            "Iteration 277, loss = 94.62291551\n",
            "Iteration 278, loss = 94.74886922\n",
            "Iteration 279, loss = 93.84436021\n",
            "Iteration 280, loss = 93.52227374\n",
            "Iteration 281, loss = 93.20741536\n",
            "Iteration 282, loss = 93.22319888\n",
            "Iteration 283, loss = 93.03645662\n",
            "Iteration 284, loss = 93.23155686\n",
            "Iteration 285, loss = 93.38602799\n",
            "Iteration 286, loss = 92.39764864\n",
            "Iteration 287, loss = 92.36975541\n",
            "Iteration 288, loss = 92.70688752\n",
            "Iteration 289, loss = 92.36946882\n",
            "Iteration 290, loss = 92.00583068\n",
            "Iteration 291, loss = 91.96007121\n",
            "Iteration 292, loss = 91.79909116\n",
            "Iteration 293, loss = 91.78590373\n",
            "Iteration 294, loss = 91.49282404\n",
            "Iteration 295, loss = 91.39411390\n",
            "Iteration 296, loss = 91.09570281\n",
            "Iteration 297, loss = 90.79973876\n",
            "Iteration 298, loss = 90.43342571\n",
            "Iteration 299, loss = 90.50282032\n",
            "Iteration 300, loss = 90.56291793\n",
            "Iteration 301, loss = 90.44767982\n",
            "Iteration 302, loss = 90.83692145\n",
            "Iteration 303, loss = 91.75876995\n",
            "Iteration 304, loss = 91.83745374\n",
            "Iteration 305, loss = 91.57944594\n",
            "Iteration 306, loss = 91.55304906\n",
            "Iteration 307, loss = 90.02175967\n",
            "Iteration 308, loss = 89.92740946\n",
            "Iteration 309, loss = 89.73493040\n",
            "Iteration 310, loss = 89.37738359\n",
            "Iteration 311, loss = 89.49604542\n",
            "Iteration 312, loss = 89.70093947\n",
            "Iteration 313, loss = 92.05649361\n",
            "Iteration 314, loss = 92.13767112\n",
            "Iteration 315, loss = 90.87953595\n",
            "Iteration 316, loss = 90.08115542\n",
            "Iteration 317, loss = 89.03601793\n",
            "Iteration 318, loss = 88.38852135\n",
            "Iteration 319, loss = 88.61126124\n",
            "Iteration 320, loss = 87.85435719\n",
            "Iteration 321, loss = 89.00283843\n",
            "Iteration 322, loss = 88.51356340\n",
            "Iteration 323, loss = 89.20284392\n",
            "Iteration 324, loss = 88.73832272\n",
            "Iteration 325, loss = 89.66729342\n",
            "Iteration 326, loss = 87.97843455\n",
            "Iteration 327, loss = 87.45675408\n",
            "Iteration 328, loss = 87.76099614\n",
            "Iteration 329, loss = 87.54657989\n",
            "Iteration 330, loss = 87.73766362\n",
            "Iteration 331, loss = 87.98448256\n",
            "Iteration 332, loss = 87.81174401\n",
            "Iteration 333, loss = 88.39898988\n",
            "Iteration 334, loss = 87.18940029\n",
            "Iteration 335, loss = 87.51552220\n",
            "Iteration 336, loss = 87.72342483\n",
            "Iteration 337, loss = 90.61000241\n",
            "Iteration 338, loss = 90.61101032\n",
            "Iteration 339, loss = 88.63034053\n",
            "Iteration 340, loss = 88.78837267\n",
            "Iteration 341, loss = 87.13900391\n",
            "Iteration 342, loss = 88.49407847\n",
            "Iteration 343, loss = 88.98951926\n",
            "Iteration 344, loss = 88.21517421\n",
            "Iteration 345, loss = 86.95433231\n",
            "Iteration 346, loss = 86.37245172\n",
            "Iteration 347, loss = 85.76025752\n",
            "Iteration 348, loss = 85.94208618\n",
            "Iteration 349, loss = 86.52162068\n",
            "Iteration 350, loss = 86.79341493\n",
            "Iteration 351, loss = 86.72702955\n",
            "Iteration 352, loss = 85.37951715\n",
            "Iteration 353, loss = 86.06634669\n",
            "Iteration 354, loss = 85.29868928\n",
            "Iteration 355, loss = 85.65930215\n",
            "Iteration 356, loss = 85.97575133\n",
            "Iteration 357, loss = 86.04017662\n",
            "Iteration 358, loss = 86.22368029\n",
            "Iteration 359, loss = 86.22255981\n",
            "Iteration 360, loss = 85.99397616\n",
            "Iteration 361, loss = 85.06952284\n",
            "Iteration 362, loss = 86.09597711\n",
            "Iteration 363, loss = 85.55614355\n",
            "Iteration 364, loss = 87.13105341\n",
            "Iteration 365, loss = 84.65995313\n",
            "Iteration 366, loss = 84.62210293\n",
            "Iteration 367, loss = 84.28743931\n",
            "Iteration 368, loss = 84.64715968\n",
            "Iteration 369, loss = 84.65895912\n",
            "Iteration 370, loss = 84.65629602\n",
            "Iteration 371, loss = 84.15699769\n",
            "Iteration 372, loss = 84.38153150\n",
            "Iteration 373, loss = 84.85241738\n",
            "Iteration 374, loss = 86.72323450\n",
            "Iteration 375, loss = 84.77576164\n",
            "Iteration 376, loss = 86.28899709\n",
            "Iteration 377, loss = 85.94731843\n",
            "Iteration 378, loss = 84.09032815\n",
            "Iteration 379, loss = 83.39455122\n",
            "Iteration 380, loss = 84.05549791\n",
            "Iteration 381, loss = 83.69047341\n",
            "Iteration 382, loss = 83.24682764\n",
            "Iteration 383, loss = 83.55479754\n",
            "Iteration 384, loss = 84.24522962\n",
            "Iteration 385, loss = 83.24203866\n",
            "Iteration 386, loss = 82.96926001\n",
            "Iteration 387, loss = 82.45448463\n",
            "Iteration 388, loss = 82.50667737\n",
            "Iteration 389, loss = 82.87198570\n",
            "Iteration 390, loss = 83.14367637\n",
            "Iteration 391, loss = 83.03903089\n",
            "Iteration 392, loss = 82.78742972\n",
            "Iteration 393, loss = 82.04569715\n",
            "Iteration 394, loss = 82.63520181\n",
            "Iteration 395, loss = 82.91541574\n",
            "Iteration 396, loss = 82.16008417\n",
            "Iteration 397, loss = 82.28840065\n",
            "Iteration 398, loss = 81.91575740\n",
            "Iteration 399, loss = 81.43961347\n",
            "Iteration 400, loss = 81.54903424\n",
            "Iteration 401, loss = 81.60744150\n",
            "Iteration 402, loss = 81.98467443\n",
            "Iteration 403, loss = 81.79262201\n",
            "Iteration 404, loss = 82.06005980\n",
            "Iteration 405, loss = 82.14065552\n",
            "Iteration 406, loss = 80.94516591\n",
            "Iteration 407, loss = 80.55753926\n",
            "Iteration 408, loss = 80.72189619\n",
            "Iteration 409, loss = 80.77159439\n",
            "Iteration 410, loss = 81.69405850\n",
            "Iteration 411, loss = 81.68471249\n",
            "Iteration 412, loss = 81.17376365\n",
            "Iteration 413, loss = 80.72262937\n",
            "Iteration 414, loss = 81.03930501\n",
            "Iteration 415, loss = 81.19750539\n",
            "Iteration 416, loss = 80.57917464\n",
            "Iteration 417, loss = 80.84066437\n",
            "Iteration 418, loss = 79.86619449\n",
            "Iteration 419, loss = 81.20401266\n",
            "Iteration 420, loss = 81.40808248\n",
            "Iteration 421, loss = 79.60032420\n",
            "Iteration 422, loss = 79.56089571\n",
            "Iteration 423, loss = 79.54662312\n",
            "Iteration 424, loss = 79.78504499\n",
            "Iteration 425, loss = 79.69802537\n",
            "Iteration 426, loss = 79.68178870\n",
            "Iteration 427, loss = 79.74289459\n",
            "Iteration 428, loss = 79.73176485\n",
            "Iteration 429, loss = 79.57977421\n",
            "Iteration 430, loss = 80.53773379\n",
            "Iteration 431, loss = 80.26963655\n",
            "Iteration 432, loss = 79.19088893\n",
            "Iteration 433, loss = 80.07212661\n",
            "Iteration 434, loss = 81.47201678\n",
            "Iteration 435, loss = 82.00730285\n",
            "Iteration 436, loss = 81.26761295\n",
            "Iteration 437, loss = 82.74152436\n",
            "Iteration 438, loss = 80.38224878\n",
            "Iteration 439, loss = 79.46054998\n",
            "Iteration 440, loss = 78.85834099\n",
            "Iteration 441, loss = 78.87460023\n",
            "Iteration 442, loss = 79.00087720\n",
            "Iteration 443, loss = 78.86906640\n",
            "Iteration 444, loss = 78.83213481\n",
            "Iteration 445, loss = 79.23866134\n",
            "Iteration 446, loss = 78.86736970\n",
            "Iteration 447, loss = 78.76806949\n",
            "Iteration 448, loss = 77.96264364\n",
            "Iteration 449, loss = 78.26693090\n",
            "Iteration 450, loss = 79.21568016\n",
            "Iteration 451, loss = 79.87819901\n",
            "Iteration 452, loss = 79.70681942\n",
            "Iteration 453, loss = 78.58461607\n",
            "Iteration 454, loss = 78.04983066\n",
            "Iteration 455, loss = 77.46703711\n",
            "Iteration 456, loss = 78.59747282\n",
            "Iteration 457, loss = 78.34614747\n",
            "Iteration 458, loss = 77.54000343\n",
            "Iteration 459, loss = 77.89240933\n",
            "Iteration 460, loss = 77.72978287\n",
            "Iteration 461, loss = 78.32808532\n",
            "Iteration 462, loss = 78.11847019\n",
            "Iteration 463, loss = 77.74457913\n",
            "Iteration 464, loss = 78.10438552\n",
            "Iteration 465, loss = 77.76798698\n",
            "Iteration 466, loss = 77.91886266\n",
            "Iteration 467, loss = 78.38414477\n",
            "Iteration 468, loss = 78.39358663\n",
            "Iteration 469, loss = 77.36972985\n",
            "Iteration 470, loss = 77.20086605\n",
            "Iteration 471, loss = 77.01145010\n",
            "Iteration 472, loss = 77.23499469\n",
            "Iteration 473, loss = 77.31189549\n",
            "Iteration 474, loss = 77.48839950\n",
            "Iteration 475, loss = 77.80960742\n",
            "Iteration 476, loss = 78.49386493\n",
            "Iteration 477, loss = 78.61965808\n",
            "Iteration 478, loss = 77.27524289\n",
            "Iteration 479, loss = 76.64355950\n",
            "Iteration 480, loss = 76.53544971\n",
            "Iteration 481, loss = 76.99849130\n",
            "Iteration 482, loss = 77.07590301\n",
            "Iteration 483, loss = 77.26663516\n",
            "Iteration 484, loss = 76.66491605\n",
            "Iteration 485, loss = 77.13579565\n",
            "Iteration 486, loss = 77.23496190\n",
            "Iteration 487, loss = 76.93563688\n",
            "Iteration 488, loss = 76.74646974\n",
            "Iteration 489, loss = 77.12331472\n",
            "Iteration 490, loss = 76.44769237\n",
            "Iteration 491, loss = 76.46309499\n",
            "Iteration 492, loss = 76.61129150\n",
            "Iteration 493, loss = 78.19545614\n",
            "Iteration 494, loss = 79.76916124\n",
            "Iteration 495, loss = 79.04675833\n",
            "Iteration 496, loss = 78.91615291\n",
            "Iteration 497, loss = 76.99397861\n",
            "Iteration 498, loss = 76.74517748\n",
            "Iteration 499, loss = 77.40409342\n",
            "Iteration 500, loss = 77.75071721\n"
          ]
        },
        {
          "output_type": "stream",
          "name": "stderr",
          "text": [
            "/usr/local/lib/python3.8/dist-packages/sklearn/neural_network/_multilayer_perceptron.py:692: ConvergenceWarning: Stochastic Optimizer: Maximum iterations (500) reached and the optimization hasn't converged yet.\n",
            "  warnings.warn(\n"
          ]
        },
        {
          "output_type": "execute_result",
          "data": {
            "text/plain": [
              "MLPRegressor(hidden_layer_sizes=(3, 100, 200, 400, 208), max_iter=500,\n",
              "             n_iter_no_change=50, random_state=1, verbose=True)"
            ]
          },
          "metadata": {},
          "execution_count": 162
        }
      ]
    },
    {
      "cell_type": "code",
      "source": [
        "regr.score(X_test, Y_test)"
      ],
      "metadata": {
        "colab": {
          "base_uri": "https://localhost:8080/"
        },
        "id": "JZOT8ToEM17q",
        "outputId": "a8a5286a-6cea-4855-9d1d-d9c1fe749852"
      },
      "execution_count": null,
      "outputs": [
        {
          "output_type": "execute_result",
          "data": {
            "text/plain": [
              "0.5718354148842446"
            ]
          },
          "metadata": {},
          "execution_count": 167
        }
      ]
    },
    {
      "cell_type": "code",
      "source": [
        "#plot loss curve\n",
        "plt.plot(np.arange(500), regr.loss_curve_)\n",
        "plt.show()"
      ],
      "metadata": {
        "colab": {
          "base_uri": "https://localhost:8080/",
          "height": 267
        },
        "id": "23g7RD9MLNaj",
        "outputId": "f6685c69-a5c8-4d42-a49a-6c5f04733804"
      },
      "execution_count": null,
      "outputs": [
        {
          "output_type": "display_data",
          "data": {
            "text/plain": [
              "<Figure size 432x288 with 1 Axes>"
            ],
            "image/png": "[encoded data removed]"
          },
          "metadata": {
            "needs_background": "light"
          }
        }
      ]
    },
    {
      "cell_type": "markdown",
      "source": [
        "Predicitons"
      ],
      "metadata": {
        "id": "tZmagSA__5HG"
      }
    },
    {
      "cell_type": "code",
      "source": [
        "predictions = regr.predict(X_test)\n",
        "\n",
        "plt.plot(np.arange(predictions.shape[0]), Y_test[:,0], label='True values')\n",
        "plt.title('True Values')\n",
        "plt.show()\n",
        "\n",
        "plt.plot(np.arange(predictions.shape[0]), predictions[:,0], label='Predictions')\n",
        "plt.title('Predictions')\n",
        "plt.show()"
      ],
      "metadata": {
        "colab": {
          "base_uri": "https://localhost:8080/",
          "height": 545
        },
        "id": "ZISiQcSn_6qJ",
        "outputId": "bcea3b68-37cb-42d8-a61c-bca547fb67bd"
      },
      "execution_count": null,
      "outputs": [
        {
          "output_type": "display_data",
          "data": {
            "text/plain": [
              "<Figure size 432x288 with 1 Axes>"
            ],
            "image/png": "[encoded data removed]"
          },
          "metadata": {
            "needs_background": "light"
          }
        },
        {
          "output_type": "display_data",
          "data": {
            "text/plain": [
              "<Figure size 432x288 with 1 Axes>"
            ],
            "image/png": "[encoded data removed]"
          },
          "metadata": {
            "needs_background": "light"
          }
        }
      ]
    },
    {
      "cell_type": "markdown",
      "source": [
        "### Regression for daily predictions\n",
        "\n",
        "Train the first 20 hours of each day and try to predict the last 4 hours of each day"
      ],
      "metadata": {
        "id": "Y06j0AFZ-5Gy"
      }
    },
    {
      "cell_type": "code",
      "source": [
        "#remove date values\n",
        "data = dataset[:,1:]\n",
        "\n",
        "scores = []\n",
        "errors = []\n",
        "\n",
        "for i in range(0, data.shape[0], 288):\n",
        "  #create X and Y sets\n",
        "  X_set = [(i, 0) for i in range(288)]\n",
        "  Y_set = data[i:i+288,:]\n",
        "\n",
        "  X_train, X_test, Y_train, Y_test = X_set[:240], X_set[240:], Y_set[:240], Y_set[240:]\n",
        "\n",
        "  #train\n",
        "  regr = MLPRegressor(random_state=1, max_iter=200, hidden_layer_sizes=(1, 25, 50, 100, 208), solver='adam', n_iter_no_change=40)\n",
        "  regr.fit(X_train, Y_train)\n",
        "\n",
        "  #evaluate\n",
        "  scores.append(regr.score(X_test, Y_test))\n",
        "  errors.append(regr.loss_)"
      ],
      "metadata": {
        "colab": {
          "base_uri": "https://localhost:8080/"
        },
        "id": "X2FNzZTk--OX",
        "outputId": "639d7fa8-7e90-4204-a127-405b21a606a7"
      },
      "execution_count": null,
      "outputs": [
        {
          "output_type": "stream",
          "name": "stderr",
          "text": [
            "/usr/local/lib/python3.8/dist-packages/sklearn/neural_network/_multilayer_perceptron.py:692: ConvergenceWarning: Stochastic Optimizer: Maximum iterations (200) reached and the optimization hasn't converged yet.\n",
            "  warnings.warn(\n",
            "/usr/local/lib/python3.8/dist-packages/sklearn/neural_network/_multilayer_perceptron.py:692: ConvergenceWarning: Stochastic Optimizer: Maximum iterations (200) reached and the optimization hasn't converged yet.\n",
            "  warnings.warn(\n"
          ]
        }
      ]
    },
    {
      "cell_type": "markdown",
      "source": [
        "Plot infos"
      ],
      "metadata": {
        "id": "i5ag-YXpFyYB"
      }
    },
    {
      "cell_type": "code",
      "source": [
        "print(f'AVERAGE SCORE = {sum(scores)/len(scores)}')\n",
        "print(f'MIN ERROR = {sum(errors)/len(errors)}')\n",
        "\n",
        "plt.scatter(range(len(scores)), scores)\n",
        "plt.title('Scores values')\n",
        "plt.show()\n",
        "\n",
        "plt.scatter(range(len(errors)), errors)\n",
        "plt.title('Errors values')\n",
        "plt.show()"
      ],
      "metadata": {
        "colab": {
          "base_uri": "https://localhost:8080/",
          "height": 581
        },
        "id": "3RHoJx7tF0Sd",
        "outputId": "2d14cc34-a099-43ae-dbab-48498e5dfc27"
      },
      "execution_count": null,
      "outputs": [
        {
          "output_type": "stream",
          "name": "stdout",
          "text": [
            "AVERAGE SCORE = -54.810915243384365\n",
            "MIN ERROR = 133.54144298697253\n"
          ]
        },
        {
          "output_type": "display_data",
          "data": {
            "text/plain": [
              "<Figure size 432x288 with 1 Axes>"
            ],
            "image/png": "[encoded data removed]"
          },
          "metadata": {
            "needs_background": "light"
          }
        },
        {
          "output_type": "display_data",
          "data": {
            "text/plain": [
              "<Figure size 432x288 with 1 Axes>"
            ],
            "image/png": "[encoded data removed]"
          },
          "metadata": {
            "needs_background": "light"
          }
        }
      ]
    },
    {
      "cell_type": "code",
      "source": [
        "#plot last prediction of first sensor\n",
        "sensor_num = 206\n",
        "plt.plot(range(240, 288), regr.predict(X_test)[:,sensor_num], label='Predictions')\n",
        "plt.plot(range(288), Y_set[:,sensor_num], label='True values')\n",
        "plt.title('Predictions vs True values')\n",
        "plt.show()"
      ],
      "metadata": {
        "colab": {
          "base_uri": "https://localhost:8080/",
          "height": 281
        },
        "id": "oXLgW-dxGx2j",
        "outputId": "596cd61b-2921-4d56-ef0e-32bc56563298"
      },
      "execution_count": null,
      "outputs": [
        {
          "output_type": "display_data",
          "data": {
            "text/plain": [
              "<Figure size 432x288 with 1 Axes>"
            ],
            "image/png": "[encoded data removed]"
          },
          "metadata": {
            "needs_background": "light"
          }
        }
      ]
    },
    {
      "cell_type": "markdown",
      "source": [
        "It does not seem to be able to learn as we would expect."
      ],
      "metadata": {
        "id": "aCLtApZ3IAkc"
      }
    }
  ]
}