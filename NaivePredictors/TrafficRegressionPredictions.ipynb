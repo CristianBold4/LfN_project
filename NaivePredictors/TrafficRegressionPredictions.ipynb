{
  "cells": [
    {
      "cell_type": "markdown",
      "metadata": {
        "id": "HhsafASf4X7Y"
      },
      "source": [
        "# Traffic Forecasting Analysis\n",
        "\n",
        "Traffic predictions using different models."
      ]
    },
    {
      "cell_type": "markdown",
      "metadata": {
        "id": "21qRtqji8WnR"
      },
      "source": [
        "Import required package and connect to Google Drive"
      ]
    },
    {
      "cell_type": "code",
      "execution_count": 1,
      "metadata": {
        "colab": {
          "base_uri": "https://localhost:8080/"
        },
        "id": "xk6dr7hk4TNW",
        "outputId": "4f124581-2256-409f-eea4-0a4398a54155"
      },
      "outputs": [
        {
          "name": "stdout",
          "output_type": "stream",
          "text": [
            "Mounted at /content/drive\n"
          ]
        }
      ],
      "source": [
        "import numpy as np\n",
        "import pandas as pd\n",
        "from matplotlib import pyplot as plt\n",
        "from google.colab import drive, files\n",
        "drive.mount('/content/drive')"
      ]
    },
    {
      "cell_type": "markdown",
      "metadata": {
        "id": "FDcHgeUS8p2W"
      },
      "source": [
        "Get dataset files"
      ]
    },
    {
      "cell_type": "code",
      "execution_count": 93,
      "metadata": {
        "id": "XBaGrs1X8vgh"
      },
      "outputs": [],
      "source": [
        "#METR-LA dataset\n",
        "#!cp /content/drive/MyDrive/metr-la.csv /content/dataset.csv\n",
        "\n",
        "#Pems-bay dataset\n",
        "#!cp /content/drive/MyDrive/pems-bay.csv /content/dataset.csv\n",
        "\n",
        "#Pemsd7-m dataset\n",
        "!cp /content/drive/MyDrive/pemsd7-m.csv /content/dataset.csv"
      ]
    },
    {
      "cell_type": "markdown",
      "metadata": {
        "id": "iJcV_2et9lNj"
      },
      "source": [
        "Create DataFrame and visualize its structure"
      ]
    },
    {
      "cell_type": "code",
      "execution_count": 94,
      "metadata": {
        "id": "DlFAcPLE9sAJ"
      },
      "outputs": [],
      "source": [
        "#dataset path\n",
        "path = '/content/dataset.csv'\n",
        "\n",
        "#add columns header\n",
        "df = pd.read_csv(path, header=None)"
      ]
    },
    {
      "cell_type": "code",
      "execution_count": 95,
      "metadata": {
        "colab": {
          "base_uri": "https://localhost:8080/",
          "height": 270
        },
        "id": "kyZVR_LB-Pwh",
        "outputId": "6bb111c8-74d7-4647-8d4f-57b248b059b2"
      },
      "outputs": [
        {
          "name": "stdout",
          "output_type": "stream",
          "text": [
            "Dataframe shape: (12672, 228)\n",
            "Number of elements: 2889216\n"
          ]
        },
        {
          "data": {
            "text/html": [
              "\n",
              "  <div id=\"df-69e69362-8961-4d7e-8eba-aeb442ffe62f\">\n",
              "    <div class=\"colab-df-container\">\n",
              "      <div>\n",
              "<style scoped>\n",
              "    .dataframe tbody tr th:only-of-type {\n",
              "        vertical-align: middle;\n",
              "    }\n",
              "\n",
              "    .dataframe tbody tr th {\n",
              "        vertical-align: top;\n",
              "    }\n",
              "\n",
              "    .dataframe thead th {\n",
              "        text-align: right;\n",
              "    }\n",
              "</style>\n",
              "<table border=\"1\" class=\"dataframe\">\n",
              "  <thead>\n",
              "    <tr style=\"text-align: right;\">\n",
              "      <th></th>\n",
              "      <th>0</th>\n",
              "      <th>1</th>\n",
              "      <th>2</th>\n",
              "      <th>3</th>\n",
              "      <th>4</th>\n",
              "      <th>5</th>\n",
              "      <th>6</th>\n",
              "      <th>7</th>\n",
              "      <th>8</th>\n",
              "      <th>9</th>\n",
              "      <th>...</th>\n",
              "      <th>218</th>\n",
              "      <th>219</th>\n",
              "      <th>220</th>\n",
              "      <th>221</th>\n",
              "      <th>222</th>\n",
              "      <th>223</th>\n",
              "      <th>224</th>\n",
              "      <th>225</th>\n",
              "      <th>226</th>\n",
              "      <th>227</th>\n",
              "    </tr>\n",
              "  </thead>\n",
              "  <tbody>\n",
              "    <tr>\n",
              "      <th>0</th>\n",
              "      <td>71.1</td>\n",
              "      <td>66.0</td>\n",
              "      <td>64.6</td>\n",
              "      <td>65.6</td>\n",
              "      <td>67.1</td>\n",
              "      <td>71.9</td>\n",
              "      <td>68.6</td>\n",
              "      <td>67.7</td>\n",
              "      <td>65.8</td>\n",
              "      <td>40.9</td>\n",
              "      <td>...</td>\n",
              "      <td>69.1</td>\n",
              "      <td>70.9</td>\n",
              "      <td>65.0</td>\n",
              "      <td>64.5</td>\n",
              "      <td>66.6</td>\n",
              "      <td>66.6</td>\n",
              "      <td>65.0</td>\n",
              "      <td>69.3</td>\n",
              "      <td>67.7</td>\n",
              "      <td>68.9</td>\n",
              "    </tr>\n",
              "    <tr>\n",
              "      <th>1</th>\n",
              "      <td>68.1</td>\n",
              "      <td>66.8</td>\n",
              "      <td>61.7</td>\n",
              "      <td>66.7</td>\n",
              "      <td>64.5</td>\n",
              "      <td>71.6</td>\n",
              "      <td>72.3</td>\n",
              "      <td>64.9</td>\n",
              "      <td>65.6</td>\n",
              "      <td>40.1</td>\n",
              "      <td>...</td>\n",
              "      <td>70.6</td>\n",
              "      <td>65.4</td>\n",
              "      <td>65.0</td>\n",
              "      <td>64.9</td>\n",
              "      <td>65.1</td>\n",
              "      <td>67.7</td>\n",
              "      <td>65.0</td>\n",
              "      <td>67.7</td>\n",
              "      <td>68.8</td>\n",
              "      <td>68.8</td>\n",
              "    </tr>\n",
              "    <tr>\n",
              "      <th>2</th>\n",
              "      <td>68.0</td>\n",
              "      <td>64.3</td>\n",
              "      <td>66.6</td>\n",
              "      <td>68.7</td>\n",
              "      <td>68.1</td>\n",
              "      <td>70.5</td>\n",
              "      <td>70.2</td>\n",
              "      <td>61.7</td>\n",
              "      <td>63.4</td>\n",
              "      <td>39.6</td>\n",
              "      <td>...</td>\n",
              "      <td>72.2</td>\n",
              "      <td>70.5</td>\n",
              "      <td>65.0</td>\n",
              "      <td>64.7</td>\n",
              "      <td>66.7</td>\n",
              "      <td>68.9</td>\n",
              "      <td>65.0</td>\n",
              "      <td>70.2</td>\n",
              "      <td>69.1</td>\n",
              "      <td>68.7</td>\n",
              "    </tr>\n",
              "    <tr>\n",
              "      <th>3</th>\n",
              "      <td>68.3</td>\n",
              "      <td>67.8</td>\n",
              "      <td>65.9</td>\n",
              "      <td>66.6</td>\n",
              "      <td>67.9</td>\n",
              "      <td>70.3</td>\n",
              "      <td>69.8</td>\n",
              "      <td>67.6</td>\n",
              "      <td>63.2</td>\n",
              "      <td>37.6</td>\n",
              "      <td>...</td>\n",
              "      <td>71.2</td>\n",
              "      <td>69.7</td>\n",
              "      <td>65.0</td>\n",
              "      <td>65.2</td>\n",
              "      <td>67.2</td>\n",
              "      <td>66.9</td>\n",
              "      <td>65.0</td>\n",
              "      <td>70.4</td>\n",
              "      <td>67.3</td>\n",
              "      <td>69.0</td>\n",
              "    </tr>\n",
              "    <tr>\n",
              "      <th>4</th>\n",
              "      <td>68.9</td>\n",
              "      <td>69.5</td>\n",
              "      <td>61.2</td>\n",
              "      <td>67.4</td>\n",
              "      <td>64.0</td>\n",
              "      <td>68.1</td>\n",
              "      <td>67.0</td>\n",
              "      <td>66.7</td>\n",
              "      <td>64.2</td>\n",
              "      <td>36.8</td>\n",
              "      <td>...</td>\n",
              "      <td>71.3</td>\n",
              "      <td>65.8</td>\n",
              "      <td>65.0</td>\n",
              "      <td>66.3</td>\n",
              "      <td>66.7</td>\n",
              "      <td>66.2</td>\n",
              "      <td>65.0</td>\n",
              "      <td>68.0</td>\n",
              "      <td>67.4</td>\n",
              "      <td>68.1</td>\n",
              "    </tr>\n",
              "  </tbody>\n",
              "</table>\n",
              "<p>5 rows × 228 columns</p>\n",
              "</div>\n",
              "      <button class=\"colab-df-convert\" onclick=\"convertToInteractive('df-69e69362-8961-4d7e-8eba-aeb442ffe62f')\"\n",
              "              title=\"Convert this dataframe to an interactive table.\"\n",
              "              style=\"display:none;\">\n",
              "        \n",
              "  <svg xmlns=\"http://www.w3.org/2000/svg\" height=\"24px\"viewBox=\"0 0 24 24\"\n",
              "       width=\"24px\">\n",
              "    <path d=\"M0 0h24v24H0V0z\" fill=\"none\"/>\n",
              "    <path d=\"M18.56 5.44l.94 2.06.94-2.06 2.06-.94-2.06-.94-.94-2.06-.94 2.06-2.06.94zm-11 1L8.5 8.5l.94-2.06 2.06-.94-2.06-.94L8.5 2.5l-.94 2.06-2.06.94zm10 10l.94 2.06.94-2.06 2.06-.94-2.06-.94-.94-2.06-.94 2.06-2.06.94z\"/><path d=\"M17.41 7.96l-1.37-1.37c-.4-.4-.92-.59-1.43-.59-.52 0-1.04.2-1.43.59L10.3 9.45l-7.72 7.72c-.78.78-.78 2.05 0 2.83L4 21.41c.39.39.9.59 1.41.59.51 0 1.02-.2 1.41-.59l7.78-7.78 2.81-2.81c.8-.78.8-2.07 0-2.86zM5.41 20L4 18.59l7.72-7.72 1.47 1.35L5.41 20z\"/>\n",
              "  </svg>\n",
              "      </button>\n",
              "      \n",
              "  <style>\n",
              "    .colab-df-container {\n",
              "      display:flex;\n",
              "      flex-wrap:wrap;\n",
              "      gap: 12px;\n",
              "    }\n",
              "\n",
              "    .colab-df-convert {\n",
              "      background-color: #E8F0FE;\n",
              "      border: none;\n",
              "      border-radius: 50%;\n",
              "      cursor: pointer;\n",
              "      display: none;\n",
              "      fill: #1967D2;\n",
              "      height: 32px;\n",
              "      padding: 0 0 0 0;\n",
              "      width: 32px;\n",
              "    }\n",
              "\n",
              "    .colab-df-convert:hover {\n",
              "      background-color: #E2EBFA;\n",
              "      box-shadow: 0px 1px 2px rgba(60, 64, 67, 0.3), 0px 1px 3px 1px rgba(60, 64, 67, 0.15);\n",
              "      fill: #174EA6;\n",
              "    }\n",
              "\n",
              "    [theme=dark] .colab-df-convert {\n",
              "      background-color: #3B4455;\n",
              "      fill: #D2E3FC;\n",
              "    }\n",
              "\n",
              "    [theme=dark] .colab-df-convert:hover {\n",
              "      background-color: #434B5C;\n",
              "      box-shadow: 0px 1px 3px 1px rgba(0, 0, 0, 0.15);\n",
              "      filter: drop-shadow(0px 1px 2px rgba(0, 0, 0, 0.3));\n",
              "      fill: #FFFFFF;\n",
              "    }\n",
              "  </style>\n",
              "\n",
              "      <script>\n",
              "        const buttonEl =\n",
              "          document.querySelector('#df-69e69362-8961-4d7e-8eba-aeb442ffe62f button.colab-df-convert');\n",
              "        buttonEl.style.display =\n",
              "          google.colab.kernel.accessAllowed ? 'block' : 'none';\n",
              "\n",
              "        async function convertToInteractive(key) {\n",
              "          const element = document.querySelector('#df-69e69362-8961-4d7e-8eba-aeb442ffe62f');\n",
              "          const dataTable =\n",
              "            await google.colab.kernel.invokeFunction('convertToInteractive',\n",
              "                                                     [key], {});\n",
              "          if (!dataTable) return;\n",
              "\n",
              "          const docLinkHtml = 'Like what you see? Visit the ' +\n",
              "            '<a target=\"_blank\" href=https://colab.research.google.com/notebooks/data_table.ipynb>data table notebook</a>'\n",
              "            + ' to learn more about interactive tables.';\n",
              "          element.innerHTML = '';\n",
              "          dataTable['output_type'] = 'display_data';\n",
              "          await google.colab.output.renderOutput(dataTable, element);\n",
              "          const docLink = document.createElement('div');\n",
              "          docLink.innerHTML = docLinkHtml;\n",
              "          element.appendChild(docLink);\n",
              "        }\n",
              "      </script>\n",
              "    </div>\n",
              "  </div>\n",
              "  "
            ],
            "text/plain": [
              "    0     1     2     3     4     5     6     7     8     9    ...   218  \\\n",
              "0  71.1  66.0  64.6  65.6  67.1  71.9  68.6  67.7  65.8  40.9  ...  69.1   \n",
              "1  68.1  66.8  61.7  66.7  64.5  71.6  72.3  64.9  65.6  40.1  ...  70.6   \n",
              "2  68.0  64.3  66.6  68.7  68.1  70.5  70.2  61.7  63.4  39.6  ...  72.2   \n",
              "3  68.3  67.8  65.9  66.6  67.9  70.3  69.8  67.6  63.2  37.6  ...  71.2   \n",
              "4  68.9  69.5  61.2  67.4  64.0  68.1  67.0  66.7  64.2  36.8  ...  71.3   \n",
              "\n",
              "    219   220   221   222   223   224   225   226   227  \n",
              "0  70.9  65.0  64.5  66.6  66.6  65.0  69.3  67.7  68.9  \n",
              "1  65.4  65.0  64.9  65.1  67.7  65.0  67.7  68.8  68.8  \n",
              "2  70.5  65.0  64.7  66.7  68.9  65.0  70.2  69.1  68.7  \n",
              "3  69.7  65.0  65.2  67.2  66.9  65.0  70.4  67.3  69.0  \n",
              "4  65.8  65.0  66.3  66.7  66.2  65.0  68.0  67.4  68.1  \n",
              "\n",
              "[5 rows x 228 columns]"
            ]
          },
          "execution_count": 95,
          "metadata": {},
          "output_type": "execute_result"
        }
      ],
      "source": [
        "#remove entries with null values\n",
        "df = df.dropna(axis=0)\n",
        "\n",
        "shape = df.shape\n",
        "size = df.size\n",
        "\n",
        "print(f'Dataframe shape: {shape}')\n",
        "print(f'Number of elements: {size}')\n",
        "df.head()"
      ]
    },
    {
      "cell_type": "code",
      "execution_count": 96,
      "metadata": {
        "id": "l6w1ZyyF_vRc"
      },
      "outputs": [],
      "source": [
        "#convert to numpy array\n",
        "dataset = df.values"
      ]
    },
    {
      "cell_type": "markdown",
      "metadata": {
        "id": "DQiEgOalAU4e"
      },
      "source": [
        "Visualize values from a sensor in the first day"
      ]
    },
    {
      "cell_type": "code",
      "execution_count": 97,
      "metadata": {
        "colab": {
          "base_uri": "https://localhost:8080/",
          "height": 266
        },
        "id": "xp3wwaNlAefX",
        "outputId": "b43433ae-590f-4ae2-ea77-af2559f428bb"
      },
      "outputs": [
        {
          "data": {
            "image/png": "[encoded data removed]",
            "text/plain": [
              "<Figure size 432x288 with 1 Axes>"
            ]
          },
          "metadata": {
            "needs_background": "light"
          },
          "output_type": "display_data"
        }
      ],
      "source": [
        "#number of values in a day\n",
        "day_size = 288\n",
        "\n",
        "#select sensor\n",
        "sensorID = 1\n",
        "\n",
        "#extract values from sensor\n",
        "sensor = dataset[:, sensorID]\n",
        "\n",
        "plt.plot(np.arange(day_size), sensor[:day_size])\n",
        "plt.show()"
      ]
    },
    {
      "cell_type": "markdown",
      "metadata": {
        "id": "_e3nuBW0FYMS"
      },
      "source": [
        "## Models"
      ]
    },
    {
      "cell_type": "markdown",
      "metadata": {
        "id": "AMBRE8dLFaW_"
      },
      "source": [
        "### Regression for all data\n",
        "\n",
        "Predict all the velocity values in 15/30/45 minutes intervals"
      ]
    },
    {
      "cell_type": "code",
      "execution_count": 7,
      "metadata": {
        "id": "lSRPQ3XiFcTP"
      },
      "outputs": [],
      "source": [
        "from sklearn.preprocessing import StandardScaler\n",
        "import tensorflow as tf\n",
        "from tensorflow import keras\n",
        "\n",
        "tf.random.set_seed(123)"
      ]
    },
    {
      "cell_type": "code",
      "execution_count": 117,
      "metadata": {
        "id": "N84Nl8oKFfDn"
      },
      "outputs": [],
      "source": [
        "#osberved data point window\n",
        "M = 12\n",
        "#prediciton data point window\n",
        "H = 3"
      ]
    },
    {
      "cell_type": "code",
      "execution_count": 118,
      "metadata": {
        "id": "8TPqLiuTFqrk"
      },
      "outputs": [],
      "source": [
        "def transform_data(data, M, H):\n",
        "  n_sensors = data.shape[1]\n",
        "  total_len = len(data)\n",
        "  window_len = total_len - M - H\n",
        "  X = np.zeros([window_len, M * n_sensors])\n",
        "  Y = np.zeros([window_len, n_sensors])\n",
        "  for i in range(window_len):\n",
        "      start = i\n",
        "      end = i + M\n",
        "      X[i, :] = data[start: end].reshape(M * n_sensors)\n",
        "      Y[i] = data[end + H - 1]\n",
        "\n",
        "  return np.array(X), np.array(Y)"
      ]
    },
    {
      "cell_type": "code",
      "execution_count": 119,
      "metadata": {
        "colab": {
          "base_uri": "https://localhost:8080/"
        },
        "id": "aSIo0Dk3Fs5h",
        "outputId": "8414e625-8e2f-429c-8f2c-af01d0c9486d"
      },
      "outputs": [
        {
          "name": "stdout",
          "output_type": "stream",
          "text": [
            "X train shape: (8855, 2736)\n",
            "X val shape: (1885, 2736)\n",
            "X test shape: (1887, 2736)\n",
            "Y train shape: (8855, 228)\n",
            "Y val shape: (1885, 228)\n",
            "Y test shape: (1887, 228)\n"
          ]
        }
      ],
      "source": [
        "#divide in train and test\n",
        "train_rate = 0.7\n",
        "val_rate = 0.15\n",
        "train_size = int(dataset.shape[0] * train_rate)\n",
        "val_size = int(dataset.shape[0] * val_rate)\n",
        "\n",
        "train_set, val_set, test_set = dataset[:train_size, :], dataset[train_size:train_size+val_size, :], dataset[train_size+val_size:, :]\n",
        "\n",
        "#possibly scale data\n",
        "#scaler = StandardScaler()\n",
        "#train_set = scaler.fit_transform(train_set)\n",
        "#val_set = scaler.transform(val_set)\n",
        "#test_set = scaler.transform(test_set)\n",
        "\n",
        "X_train, Y_train = transform_data(train_set, M, H)\n",
        "X_val, Y_val = transform_data(val_set, M, H)\n",
        "X_test, Y_test = transform_data(test_set, M, H)\n",
        "\n",
        "print(f'X train shape: {X_train.shape}')\n",
        "print(f'X val shape: {X_val.shape}')\n",
        "print(f'X test shape: {X_test.shape}')\n",
        "print(f'Y train shape: {Y_train.shape}')\n",
        "print(f'Y val shape: {Y_val.shape}')\n",
        "print(f'Y test shape: {Y_test.shape}')"
      ]
    },
    {
      "attachments": {},
      "cell_type": "markdown",
      "metadata": {
        "id": "SnzazYr_sPu2"
      },
      "source": [
        "Define model or import the best model obtained"
      ]
    },
    {
      "cell_type": "code",
      "execution_count": null,
      "metadata": {
        "id": "-Kwfv86ZJ7kz"
      },
      "outputs": [],
      "source": [
        "model = keras.models.Sequential([\n",
        "    tf.keras.Input(X_train.shape[1]),\n",
        "    keras.layers.Dropout(0.25),\n",
        "    keras.layers.BatchNormalization(),\n",
        "    keras.layers.Dense(512, activation='relu', kernel_regularizer='l2'),\n",
        "    keras.layers.Dropout(0.25),\n",
        "    keras.layers.BatchNormalization(),\n",
        "    keras.layers.Dense(1024, activation='relu', kernel_regularizer='l2'),\n",
        "    keras.layers.Dropout(0.25),\n",
        "    keras.layers.BatchNormalization(),\n",
        "    keras.layers.Dense(512, activation='relu', kernel_regularizer='l2'),\n",
        "    keras.layers.Dropout(0.25),\n",
        "    keras.layers.BatchNormalization(),\n",
        "    keras.layers.Dense(Y_train.shape[1], activation='relu')\n",
        "])\n",
        "\n",
        "model.summary()"
      ]
    },
    {
      "cell_type": "code",
      "execution_count": null,
      "metadata": {
        "id": "l-MBeh_gsVu6"
      },
      "outputs": [],
      "source": [
        "#load model\n",
        "#!cp /content/drive/MyDrive/FNNtraffic.h5 /content/FNNtraffic.h5\n",
        "#model = keras.models.load_model('/content/FNNtraffic.h5', compile=False)\n",
        "#model.summary()"
      ]
    },
    {
      "cell_type": "code",
      "execution_count": 130,
      "metadata": {
        "id": "zfx4iNc8KgNf"
      },
      "outputs": [],
      "source": [
        "model.compile(loss=keras.losses.MeanSquaredError(),\n",
        "              optimizer=keras.optimizers.Adam(),\n",
        "              metrics=[keras.metrics.RootMeanSquaredError(), keras.losses.MeanAbsoluteError(), keras.losses.MeanAbsolutePercentageError()])"
      ]
    },
    {
      "cell_type": "code",
      "execution_count": null,
      "metadata": {
        "id": "OAj7gTl2LKgT"
      },
      "outputs": [],
      "source": [
        "history = model.fit(X_train, Y_train, epochs=100, validation_data=(X_val, Y_val))"
      ]
    },
    {
      "cell_type": "markdown",
      "metadata": {
        "id": "4d9ntoKV2tHr"
      },
      "source": [
        "Test score"
      ]
    },
    {
      "cell_type": "code",
      "execution_count": 132,
      "metadata": {
        "colab": {
          "base_uri": "https://localhost:8080/"
        },
        "id": "2mBgcaFbMlqZ",
        "outputId": "f4a48b5e-d424-4138-ae63-ce2801d98941"
      },
      "outputs": [
        {
          "name": "stdout",
          "output_type": "stream",
          "text": [
            "59/59 [==============================] - 1s 11ms/step - loss: 52.0285 - root_mean_squared_error: 6.4865 - mean_absolute_error: 3.7356 - mean_absolute_percentage_error: 9.4902\n"
          ]
        },
        {
          "data": {
            "text/plain": [
              "[52.02848434448242, 6.4864983558654785, 3.735583543777466, 9.490234375]"
            ]
          },
          "execution_count": 132,
          "metadata": {},
          "output_type": "execute_result"
        }
      ],
      "source": [
        "model.evaluate(X_test, Y_test)"
      ]
    },
    {
      "cell_type": "code",
      "execution_count": 133,
      "metadata": {
        "colab": {
          "base_uri": "https://localhost:8080/",
          "height": 336
        },
        "id": "23g7RD9MLNaj",
        "outputId": "29719431-759f-46f9-f0ab-0eed1dbea943"
      },
      "outputs": [
        {
          "data": {
            "image/png": "[encoded data removed]",
            "text/plain": [
              "<Figure size 576x360 with 1 Axes>"
            ]
          },
          "metadata": {
            "needs_background": "light"
          },
          "output_type": "display_data"
        }
      ],
      "source": [
        "#plot loss curve\n",
        "plt.figure(figsize=(8, 5))\n",
        "plt.plot(history.epoch,history.history['loss'], label='Train loss')\n",
        "plt.plot(history.epoch,history.history['val_loss'], label='Validation loss')\n",
        "plt.legend()\n",
        "plt.title('Loss curve')\n",
        "plt.grid(True)\n",
        "plt.show()"
      ]
    },
    {
      "cell_type": "markdown",
      "metadata": {
        "id": "tZmagSA__5HG"
      },
      "source": [
        "Predicitons"
      ]
    },
    {
      "cell_type": "code",
      "execution_count": 134,
      "metadata": {
        "colab": {
          "base_uri": "https://localhost:8080/",
          "height": 296
        },
        "id": "ZISiQcSn_6qJ",
        "outputId": "8c45002e-ca9e-478d-e64b-7af2b7549a49"
      },
      "outputs": [
        {
          "name": "stdout",
          "output_type": "stream",
          "text": [
            "59/59 [==============================] - 1s 9ms/step\n"
          ]
        },
        {
          "data": {
            "image/png": "[encoded data removed]",
            "text/plain": [
              "<Figure size 432x288 with 1 Axes>"
            ]
          },
          "metadata": {
            "needs_background": "light"
          },
          "output_type": "display_data"
        }
      ],
      "source": [
        "predictions = model.predict(X_test)\n",
        "#predictions = scaler.inverse_transform(predictions)\n",
        "#true_values = scaler.inverse_transform(Y_test)\n",
        "\n",
        "day = np.arange(day_size).tolist()\n",
        "\n",
        "sensor_n = 1\n",
        "\n",
        "l1, = plt.plot(day, predictions[:day_size, sensor_n], color='red')\n",
        "l2, = plt.plot(day, Y_test[:day_size, sensor_n], color='blue')\n",
        "\n",
        "plt.legend((l1, l2), ['Predicted speed', 'True speed'])\n",
        "\n",
        "plt.xlabel('Day slot')\n",
        "plt.ylabel('Speed')\n",
        "plt.xticks(np.arange(min(day) + 4*12, max(day) + 2, 6*12), labels=('04:00', '10:00', '16:00', '22:00'))\n",
        "\n",
        "plt.show()"
      ]
    },
    {
      "cell_type": "code",
      "execution_count": null,
      "metadata": {
        "colab": {
          "base_uri": "https://localhost:8080/",
          "height": 17
        },
        "id": "AJ0ziDgtifwb",
        "outputId": "9962377c-f9dc-44b7-c3ad-b4cbcf51b0f4"
      },
      "outputs": [
        {
          "data": {
            "application/javascript": "\n    async function download(id, filename, size) {\n      if (!google.colab.kernel.accessAllowed) {\n        return;\n      }\n      const div = document.createElement('div');\n      const label = document.createElement('label');\n      label.textContent = `Downloading \"${filename}\": `;\n      div.appendChild(label);\n      const progress = document.createElement('progress');\n      progress.max = size;\n      div.appendChild(progress);\n      document.body.appendChild(div);\n\n      const buffers = [];\n      let downloaded = 0;\n\n      const channel = await google.colab.kernel.comms.open(id);\n      // Send a message to notify the kernel that we're ready.\n      channel.send({})\n\n      for await (const message of channel.messages) {\n        // Send a message to notify the kernel that we're ready.\n        channel.send({})\n        if (message.buffers) {\n          for (const buffer of message.buffers) {\n            buffers.push(buffer);\n            downloaded += buffer.byteLength;\n            progress.value = downloaded;\n          }\n        }\n      }\n      const blob = new Blob(buffers, {type: 'application/binary'});\n      const a = document.createElement('a');\n      a.href = window.URL.createObjectURL(blob);\n      a.download = filename;\n      div.appendChild(a);\n      a.click();\n      div.remove();\n    }\n  ",
            "text/plain": [
              "<IPython.core.display.Javascript object>"
            ]
          },
          "metadata": {},
          "output_type": "display_data"
        },
        {
          "data": {
            "application/javascript": "download(\"download_5728271d-7ad1-4f3e-af10-a7a29251ddc3\", \"FNNtrafficBEST.h5\", 31057600)",
            "text/plain": [
              "<IPython.core.display.Javascript object>"
            ]
          },
          "metadata": {},
          "output_type": "display_data"
        }
      ],
      "source": [
        "#save model\n",
        "#model.save('FNNtraffic.h5')\n",
        "#download it\n",
        "#files.download('/content/FNNtraffic.h5')"
      ]
    },
    {
      "cell_type": "markdown",
      "metadata": {
        "id": "aCLtApZ3IAkc"
      },
      "source": [
        "### Historical Average (HA)"
      ]
    },
    {
      "cell_type": "code",
      "execution_count": 135,
      "metadata": {
        "id": "2o-n09LcF25k"
      },
      "outputs": [],
      "source": [
        "M = 12\n",
        "H = 3"
      ]
    },
    {
      "cell_type": "code",
      "execution_count": 136,
      "metadata": {
        "id": "dPuAGbM1E6VD"
      },
      "outputs": [],
      "source": [
        "def format_data(data, M, H):\n",
        "  n_sensors = data.shape[1]\n",
        "  total_len = len(data)\n",
        "  window_len = total_len - M - H\n",
        "  X = np.zeros([window_len, M,  n_sensors])\n",
        "  Y = np.zeros([window_len, n_sensors])\n",
        "  for i in range(window_len):\n",
        "      start = i\n",
        "      end = i + M\n",
        "      X[i, :] = data[start: end].reshape(M,  n_sensors)\n",
        "      Y[i] = data[end + H - 1]\n",
        "\n",
        "  return np.array(X), np.array(Y)"
      ]
    },
    {
      "cell_type": "code",
      "execution_count": 137,
      "metadata": {
        "id": "RtejbhBCEKh3"
      },
      "outputs": [],
      "source": [
        "#format data\n",
        "X_set, Y_set = format_data(dataset, M, H)\n",
        "\n",
        "#compute predictions\n",
        "pred = np.mean(X_set, axis=1)"
      ]
    },
    {
      "cell_type": "code",
      "execution_count": 138,
      "metadata": {
        "colab": {
          "base_uri": "https://localhost:8080/"
        },
        "id": "FPHfSXIYF9DP",
        "outputId": "f120f0e0-4892-4809-d06c-77ce07c9b93b"
      },
      "outputs": [
        {
          "name": "stdout",
          "output_type": "stream",
          "text": [
            "Root Mean Squared Error = 7.072145462036133\n",
            "Mean Absolute Error = 3.6482460498809814\n",
            "Mean Absolute Percentage Error = 8.32510757446289\n"
          ]
        }
      ],
      "source": [
        "#print metrics\n",
        "rmse = keras.metrics.RootMeanSquaredError()\n",
        "rmse.update_state(pred, Y_set)\n",
        "\n",
        "mae = keras.metrics.MeanAbsoluteError()\n",
        "mae.update_state(pred, Y_set)\n",
        "\n",
        "mape = keras.metrics.MeanAbsolutePercentageError()\n",
        "mape.update_state(pred, Y_set)\n",
        "\n",
        "print(f'Root Mean Squared Error = {float(rmse.result())}')\n",
        "print(f'Mean Absolute Error = {float(mae.result())}')\n",
        "print(f'Mean Absolute Percentage Error = {float(mape.result())}')"
      ]
    },
    {
      "attachments": {},
      "cell_type": "markdown",
      "metadata": {},
      "source": [
        "Plot predictions"
      ]
    },
    {
      "cell_type": "code",
      "execution_count": 139,
      "metadata": {
        "colab": {
          "base_uri": "https://localhost:8080/",
          "height": 280
        },
        "id": "zEyKcXrxFqom",
        "outputId": "11ff51d8-66c1-495a-abfe-6e65885b3de8"
      },
      "outputs": [
        {
          "data": {
            "image/png": "[encoded data removed]",
            "text/plain": [
              "<Figure size 432x288 with 1 Axes>"
            ]
          },
          "metadata": {
            "needs_background": "light"
          },
          "output_type": "display_data"
        }
      ],
      "source": [
        "day = np.arange(day_size).tolist()\n",
        "\n",
        "sensor_n = 1\n",
        "\n",
        "l1, = plt.plot(day, pred[:day_size, sensor_n], color='red')\n",
        "l2, = plt.plot(day, Y_set[:day_size, sensor_n], color='blue')\n",
        "\n",
        "plt.legend((l1, l2), ['Predicted speed', 'True speed'])\n",
        "\n",
        "plt.xlabel('Day slot')\n",
        "plt.ylabel('Speed')\n",
        "plt.xticks(np.arange(min(day) + 4*12, max(day) + 2, 6*12), labels=('04:00', '10:00', '16:00', '22:00'))\n",
        "\n",
        "plt.show()"
      ]
    }
  ],
  "metadata": {
    "colab": {
      "provenance": []
    },
    "kernelspec": {
      "display_name": "Python 3",
      "name": "python3"
    },
    "language_info": {
      "name": "python"
    }
  },
  "nbformat": 4,
  "nbformat_minor": 0
}
