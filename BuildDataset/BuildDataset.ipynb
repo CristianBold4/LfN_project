{
  "nbformat": 4,
  "nbformat_minor": 0,
  "metadata": {
    "colab": {
      "provenance": []
    },
    "kernelspec": {
      "name": "python3",
      "display_name": "Python 3"
    },
    "language_info": {
      "name": "python"
    }
  },
  "cells": [
    {
      "cell_type": "code",
      "execution_count": 2,
      "metadata": {
        "colab": {
          "base_uri": "https://localhost:8080/"
        },
        "id": "NxQrwIh4W3Jr",
        "outputId": "a02d0653-554e-41e6-a6bc-5ed494be0096"
      },
      "outputs": [
        {
          "output_type": "stream",
          "name": "stdout",
          "text": [
            "Mounted at /drive\n"
          ]
        }
      ],
      "source": [
        "from google.colab import drive\n",
        "drive.mount('/drive')"
      ]
    },
    {
      "cell_type": "code",
      "source": [
        "import pandas as pd\n",
        "import numpy as np\n",
        "import math\n",
        "import random"
      ],
      "metadata": {
        "id": "YvofQG62W-cy"
      },
      "execution_count": 3,
      "outputs": []
    },
    {
      "cell_type": "markdown",
      "source": [
        "# Examine sensors metadata to create adjacency matrix"
      ],
      "metadata": {
        "id": "Tk_DTYwYXTvX"
      }
    },
    {
      "cell_type": "code",
      "source": [
        "sensors = pd.read_csv('/content/d07_text_meta_2022_07_15.txt', sep=\"\\t\")"
      ],
      "metadata": {
        "id": "BBiY9cdabm6v"
      },
      "execution_count": 4,
      "outputs": []
    },
    {
      "cell_type": "code",
      "source": [
        "def measure(lat1, lon1, lat2, lon2) :\n",
        "    R = 6378.137 #Radius of earth in KM\n",
        "    dLat = lat2 * math.pi / 180 - lat1 * math.pi / 180\n",
        "    dLon = lon2 * math.pi / 180 - lon1 * math.pi / 180\n",
        "    a = math.sin(dLat/2) * math.sin(dLat/2) + math.cos(lat1 * math.pi / 180) * math.cos(lat2 * math.pi / 180) * math.sin(dLon/2) * math.sin(dLon/2)\n",
        "    c = 2 * math.atan2(math.sqrt(a), math.sqrt(1-a))\n",
        "    d = R * c;\n",
        "    return d * 1000  #meters"
      ],
      "metadata": {
        "id": "wJr6x3yserZZ"
      },
      "execution_count": 5,
      "outputs": []
    },
    {
      "cell_type": "code",
      "source": [
        "def sample_dataset(df, n_samples, max_range) :\n",
        "  # need to sample data in order to keep in a limited range, prob = 1 / df.shape[0]\n",
        "  #sampled_df = df.sample(n = n_samples)\n",
        "  sampled_df = np.zeros([n_samples, 3])\n",
        "  distances = np.zeros([n_samples, n_samples])\n",
        "  r = random.randint(0, df.shape[0])\n",
        "  lat_r = df.iloc[r]['Latitude']\n",
        "  lon_r = df.iloc[r]['Longitude']\n",
        "  sampled_df[0] = [df.iloc[r]['ID'], df.iloc[r]['Latitude'], df.iloc[r]['Longitude']]\n",
        "  count = 1\n",
        "  sensors_list = [r]\n",
        "  while count != n_samples:\n",
        "    row = random.randint(0, df.shape[0])\n",
        "    if row not in sensors_list:\n",
        "      sensors_list.append(row)\n",
        "      lat_i = df.iloc[row]['Latitude']\n",
        "      lon_i = df.iloc[row]['Longitude']\n",
        "      if 0 < measure(lat_r, lon_r, lat_i, lon_i) < max_range:\n",
        "        sampled_df[count] = [df.iloc[row]['ID'], df.iloc[row]['Latitude'], df.iloc[row]['Longitude']]\n",
        "        count +=1\n",
        "        \n",
        "\n",
        "  for i in range(n_samples):\n",
        "    for j in range(n_samples):\n",
        "      if i != j :\n",
        "        # convert from lat/long to distance in meters\n",
        "        lat_i = sampled_df[i][1]\n",
        "        lat_j = sampled_df[j][1]\n",
        "        lon_i = sampled_df[i][2]\n",
        "        lon_j = sampled_df[j][2]\n",
        "        distances[i, j] = measure(lat_i, lon_i, lat_j, lon_j)\n",
        "\n",
        "  \n",
        "  return pd.DataFrame(sampled_df, columns=['ID', 'Latitude', 'Longitude']), pd.DataFrame(distances)\n"
      ],
      "metadata": {
        "id": "hsiJ4N7tdA_m"
      },
      "execution_count": 6,
      "outputs": []
    },
    {
      "cell_type": "code",
      "source": [
        "sampled_df, distances = sample_dataset(sensors, 228, 20_000)"
      ],
      "metadata": {
        "id": "agAAloidfv_Z"
      },
      "execution_count": 7,
      "outputs": []
    },
    {
      "cell_type": "code",
      "source": [
        "display(max(distances.max()))"
      ],
      "metadata": {
        "colab": {
          "base_uri": "https://localhost:8080/",
          "height": 34
        },
        "id": "62vIC7wy2YlU",
        "outputId": "596cf832-77bd-4818-e287-817c05c6f9ba"
      },
      "execution_count": 10,
      "outputs": [
        {
          "output_type": "display_data",
          "data": {
            "text/plain": [
              "39131.06797258615"
            ]
          },
          "metadata": {}
        }
      ]
    },
    {
      "cell_type": "markdown",
      "source": [
        "# Build the speed measurement dataset (Alberto)"
      ],
      "metadata": {
        "id": "yFaH0tLYrZY3"
      }
    },
    {
      "cell_type": "code",
      "source": [],
      "metadata": {
        "id": "cRL5t54Wx8Cb"
      },
      "execution_count": null,
      "outputs": []
    }
  ]
}